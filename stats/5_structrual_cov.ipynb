{
 "cells": [
  {
   "cell_type": "markdown",
   "id": "c20e8002-cf89-475c-8a23-de236a2fa3c8",
   "metadata": {},
   "source": [
    "# Cerebellar volumetry and cortical thickness covariance \n",
    "## Data: \n",
    "    - 1. Freesurfer cortical thickness measures in Des/DKT atlas;\n",
    "    - 2. Cerebellar lobular volumnes from SUIT/MDTB/MAGeT softwares; \n",
    "## Cohorts\n",
    "- The augmented cohort 211: MNI ET/ matched NC (34/177).\n",
    "\n",
    "## Tasks: exploring the structural covariance with cerebellar/lolbular volumes \n",
    "    - 1. ??\n",
    "    - 2. ??\n",
    "    "
   ]
  },
  {
   "cell_type": "code",
   "execution_count": 1,
   "id": "3a364d3d-548a-4d7d-aabb-33fe9bc3e108",
   "metadata": {},
   "outputs": [],
   "source": [
    "#reading/merging/selecting data\n",
    "from pathlib import Path\n",
    "import nipype.interfaces.io as nio\n",
    "import pandas as pd\n",
    "import numpy as np\n",
    "import seaborn as sns\n",
    "import matplotlib.pyplot as plt\n",
    "\n",
    "data_dir = Path(\"/codes/tab_data\")\n",
    "# data files\n",
    "matched_des_all_file = data_dir/ 'matched_Des-all_qced.csv'\n",
    "matched_DKT_all_file = data_dir/ 'matched_DKT-all_qced.csv'\n",
    "\n",
    "data_df = pd.read_csv(matched_DKT_all_file , sep=',', header=0, index_col=0);"
   ]
  },
  {
   "cell_type": "code",
   "execution_count": 2,
   "id": "811443e6-e4d1-430d-bf5a-395c510bba02",
   "metadata": {},
   "outputs": [],
   "source": [
    "# prepare ROI list for analysis\n",
    "# cerebellum ROIs\n",
    "SUIT_l_labels = ['Left_I_IV',  'Left_V', 'Left_VI', 'Left_CrusI', 'Left_CrusII', \n",
    "                 'Left_VIIb', 'Left_VIIIa', 'Left_VIIIb', 'Left_IX', 'Left_X', \n",
    "                 'Left_Dentate', 'Left_Interposed', 'Left_Fastigial'];\n",
    "SUIT_r_labels = ['Right_I_IV','Right_V','Right_VI','Right_CrusI','Right_CrusII',\n",
    "                 'Right_VIIb','Right_VIIIa','Right_VIIIb','Right_IX','Right_X',\n",
    "                 'Right_Dentate','Right_Interposed','Right_Fastigial'];\n",
    "SUIT_v_labels = ['Vermis_VI', 'Vermis_CrusI', 'Vermis_CrusII', 'Vermis_VIIb', \n",
    "                 'Vermis_VIIIa','Vermis_VIIIb', 'Vermis_IX', 'Vermis_X'];\n",
    "MAGeT_l_labels = ['L_I_IV',  'L_V', 'L_VI', 'L_Crus_I', 'L_Crus_II', \n",
    "                 'L_VIIB', 'L_VIIIA', 'L_VIIIB', 'L_IX', 'L_X'];  # NO  'Left_Dentate', 'Left_Interposed', 'Left_Fastigial'\n",
    "MAGeT_r_labels = ['R_I_IV','R_V','R_VI','R_Crus_I','R_Crus_II',\n",
    "                 'R_VIIB','R_VIIIA','R_VIIIB','R_IX','R_X'];  # NO  'Right_Dentate','Right_Interposed','Right_Fastigial'\n",
    "\n",
    "length_lobule_list=len(MAGeT_l_labels)\n",
    "\n",
    "# Freesurfer 'Destrieux' 2009a atlas, and DKT atlas ROIs:\n",
    "Des_atlas_str=\"lh_G&S_frontomargin_thickness\tlh_G&S_occipital_inf_thickness\tlh_G&S_paracentral_thickness\tlh_G&S_subcentral_thickness\tlh_G&S_transv_frontopol_thickness\tlh_G&S_cingul-Ant_thickness\tlh_G&S_cingul-Mid-Ant_thickness\tlh_G&S_cingul-Mid-Post_thickness\tlh_G_cingul-Post-dorsal_thickness\tlh_G_cingul-Post-ventral_thickness\tlh_G_cuneus_thickness\tlh_G_front_inf-Opercular_thickness\tlh_G_front_inf-Orbital_thickness\tlh_G_front_inf-Triangul_thickness\tlh_G_front_middle_thickness\tlh_G_front_sup_thickness\tlh_G_Ins_lg&S_cent_ins_thickness\tlh_G_insular_short_thickness\tlh_G_occipital_middle_thickness\tlh_G_occipital_sup_thickness\tlh_G_oc-temp_lat-fusifor_thickness\tlh_G_oc-temp_med-Lingual_thickness\tlh_G_oc-temp_med-Parahip_thickness\tlh_G_orbital_thickness\tlh_G_pariet_inf-Angular_thickness\tlh_G_pariet_inf-Supramar_thickness\tlh_G_parietal_sup_thickness\tlh_G_postcentral_thickness\tlh_G_precentral_thickness\tlh_G_precuneus_thickness\tlh_G_rectus_thickness\tlh_G_subcallosal_thickness\tlh_G_temp_sup-G_T_transv_thickness\tlh_G_temp_sup-Lateral_thickness\tlh_G_temp_sup-Plan_polar_thickness\tlh_G_temp_sup-Plan_tempo_thickness\tlh_G_temporal_inf_thickness\tlh_G_temporal_middle_thickness\tlh_Lat_Fis-ant-Horizont_thickness\tlh_Lat_Fis-ant-Vertical_thickness\tlh_Lat_Fis-post_thickness\tlh_Pole_occipital_thickness\tlh_Pole_temporal_thickness\tlh_S_calcarine_thickness\tlh_S_central_thickness\tlh_S_cingul-Marginalis_thickness\tlh_S_circular_insula_ant_thickness\tlh_S_circular_insula_inf_thickness\tlh_S_circular_insula_sup_thickness\tlh_S_collat_transv_ant_thickness\tlh_S_collat_transv_post_thickness\tlh_S_front_inf_thickness\tlh_S_front_middle_thickness\tlh_S_front_sup_thickness\tlh_S_interm_prim-Jensen_thickness\tlh_S_intrapariet&P_trans_thickness\tlh_S_oc_middle&Lunatus_thickness\tlh_S_oc_sup&transversal_thickness\tlh_S_occipital_ant_thickness\tlh_S_oc-temp_lat_thickness\tlh_S_oc-temp_med&Lingual_thickness\tlh_S_orbital_lateral_thickness\tlh_S_orbital_med-olfact_thickness\tlh_S_orbital-H_Shaped_thickness\tlh_S_parieto_occipital_thickness\tlh_S_pericallosal_thickness\tlh_S_postcentral_thickness\tlh_S_precentral-inf-part_thickness\tlh_S_precentral-sup-part_thickness\tlh_S_suborbital_thickness\tlh_S_subparietal_thickness\tlh_S_temporal_inf_thickness\tlh_S_temporal_sup_thickness\tlh_S_temporal_transverse_thickness\tlh_MeanThickness_thickness\"\n",
    "DKT_atlas_str=\"lh_caudalanteriorcingulate_thickness\tlh_caudalmiddlefrontal_thickness\tlh_cuneus_thickness\tlh_entorhinal_thickness\tlh_fusiform_thickness\tlh_inferiorparietal_thickness\tlh_inferiortemporal_thickness\tlh_isthmuscingulate_thickness\tlh_lateraloccipital_thickness\tlh_lateralorbitofrontal_thickness\tlh_lingual_thickness\tlh_medialorbitofrontal_thickness\tlh_middletemporal_thickness\tlh_parahippocampal_thickness\tlh_paracentral_thickness\tlh_parsopercularis_thickness\tlh_parsorbitalis_thickness\tlh_parstriangularis_thickness\tlh_pericalcarine_thickness\tlh_postcentral_thickness\tlh_posteriorcingulate_thickness\tlh_precentral_thickness\tlh_precuneus_thickness\tlh_rostralanteriorcingulate_thickness\tlh_rostralmiddlefrontal_thickness\tlh_superiorfrontal_thickness\tlh_superiorparietal_thickness\tlh_superiortemporal_thickness\tlh_supramarginal_thickness\tlh_transversetemporal_thickness\tlh_insula_thickness\tlh_MeanThickness_thickness\"\n",
    "Des_atlas_lh_list=[x.replace('-','_') for x in Des_atlas_str.split('\\t')]\n",
    "Des_atlas_rh_list=['rh_'+x[3:] for x in Des_atlas_lh_list]\n",
    "DKT_atlas_lh_list=[x.replace('-','_') for x in DKT_atlas_str.split('\\t')]\n",
    "DKT_atlas_rh_list=['rh_'+x[3:] for x in DKT_atlas_lh_list]"
   ]
  },
  {
   "cell_type": "code",
   "execution_count": 3,
   "id": "15cb6700-47c1-473e-8679-53d27dbfb67c",
   "metadata": {},
   "outputs": [
    {
     "ename": "KeyError",
     "evalue": "\"['left_mean_cortical_thickness'] not in index\"",
     "output_type": "error",
     "traceback": [
      "\u001b[0;31m---------------------------------------------------------------------------\u001b[0m",
      "\u001b[0;31mKeyError\u001b[0m                                  Traceback (most recent call last)",
      "\u001b[0;32m/tmp/ipykernel_2349/1576275105.py\u001b[0m in \u001b[0;36m<module>\u001b[0;34m\u001b[0m\n\u001b[1;32m      1\u001b[0m \u001b[0;31m#Average cortical thickness for left and right hemisphere\u001b[0m\u001b[0;34m\u001b[0m\u001b[0;34m\u001b[0m\u001b[0;34m\u001b[0m\u001b[0m\n\u001b[1;32m      2\u001b[0m \u001b[0mlr_mct_vis\u001b[0m\u001b[0;34m=\u001b[0m\u001b[0mdata_df\u001b[0m\u001b[0;34m.\u001b[0m\u001b[0mcopy\u001b[0m\u001b[0;34m(\u001b[0m\u001b[0;34m)\u001b[0m\u001b[0;34m\u001b[0m\u001b[0;34m\u001b[0m\u001b[0m\n\u001b[0;32m----> 3\u001b[0;31m \u001b[0ml_mct\u001b[0m\u001b[0;34m=\u001b[0m\u001b[0mlr_mct_vis\u001b[0m\u001b[0;34m[\u001b[0m\u001b[0;34m[\u001b[0m\u001b[0;34m'group'\u001b[0m\u001b[0;34m,\u001b[0m\u001b[0;34m'cohort'\u001b[0m\u001b[0;34m,\u001b[0m\u001b[0;34m'left_mean_cortical_thickness'\u001b[0m\u001b[0;34m]\u001b[0m\u001b[0;34m]\u001b[0m\u001b[0;34m;\u001b[0m \u001b[0ml_mct\u001b[0m\u001b[0;34m.\u001b[0m\u001b[0mloc\u001b[0m\u001b[0;34m[\u001b[0m\u001b[0;34m:\u001b[0m\u001b[0;34m,\u001b[0m\u001b[0;34m'Hemisphere'\u001b[0m\u001b[0;34m]\u001b[0m\u001b[0;34m=\u001b[0m\u001b[0;34m'Left'\u001b[0m\u001b[0;34m;\u001b[0m \u001b[0ml_mct\u001b[0m\u001b[0;34m.\u001b[0m\u001b[0mloc\u001b[0m\u001b[0;34m[\u001b[0m\u001b[0;34m:\u001b[0m\u001b[0;34m,\u001b[0m\u001b[0;34m'Mean cortical thickness'\u001b[0m\u001b[0;34m]\u001b[0m\u001b[0;34m=\u001b[0m\u001b[0ml_mct\u001b[0m\u001b[0;34m.\u001b[0m\u001b[0mloc\u001b[0m\u001b[0;34m[\u001b[0m\u001b[0;34m:\u001b[0m\u001b[0;34m,\u001b[0m\u001b[0;34m'left_mean_cortical_thickness'\u001b[0m\u001b[0;34m]\u001b[0m\u001b[0;34m;\u001b[0m\u001b[0;34m\u001b[0m\u001b[0;34m\u001b[0m\u001b[0m\n\u001b[0m\u001b[1;32m      4\u001b[0m \u001b[0ml_mct\u001b[0m\u001b[0;34m=\u001b[0m\u001b[0ml_mct\u001b[0m\u001b[0;34m.\u001b[0m\u001b[0mdrop\u001b[0m\u001b[0;34m(\u001b[0m\u001b[0mcolumns\u001b[0m\u001b[0;34m=\u001b[0m\u001b[0;34m[\u001b[0m\u001b[0;34m'left_mean_cortical_thickness'\u001b[0m\u001b[0;34m]\u001b[0m\u001b[0;34m)\u001b[0m\u001b[0;34m\u001b[0m\u001b[0;34m\u001b[0m\u001b[0m\n\u001b[1;32m      5\u001b[0m \u001b[0mr_mct\u001b[0m\u001b[0;34m=\u001b[0m\u001b[0mlr_mct_vis\u001b[0m\u001b[0;34m[\u001b[0m\u001b[0;34m[\u001b[0m\u001b[0;34m'group'\u001b[0m\u001b[0;34m,\u001b[0m\u001b[0;34m'cohort'\u001b[0m\u001b[0;34m,\u001b[0m\u001b[0;34m'right_mean_cortical_thickness'\u001b[0m\u001b[0;34m]\u001b[0m\u001b[0;34m]\u001b[0m\u001b[0;34m;\u001b[0m \u001b[0mr_mct\u001b[0m\u001b[0;34m.\u001b[0m\u001b[0mloc\u001b[0m\u001b[0;34m[\u001b[0m\u001b[0;34m:\u001b[0m\u001b[0;34m,\u001b[0m\u001b[0;34m'Hemisphere'\u001b[0m\u001b[0;34m]\u001b[0m\u001b[0;34m=\u001b[0m\u001b[0;34m'Right'\u001b[0m\u001b[0;34m;\u001b[0m \u001b[0mr_mct\u001b[0m\u001b[0;34m.\u001b[0m\u001b[0mloc\u001b[0m\u001b[0;34m[\u001b[0m\u001b[0;34m:\u001b[0m\u001b[0;34m,\u001b[0m\u001b[0;34m'Mean cortical thickness'\u001b[0m\u001b[0;34m]\u001b[0m\u001b[0;34m=\u001b[0m\u001b[0mr_mct\u001b[0m\u001b[0;34m.\u001b[0m\u001b[0mloc\u001b[0m\u001b[0;34m[\u001b[0m\u001b[0;34m:\u001b[0m\u001b[0;34m,\u001b[0m\u001b[0;34m'right_mean_cortical_thickness'\u001b[0m\u001b[0;34m]\u001b[0m\u001b[0;34m;\u001b[0m\u001b[0;34m\u001b[0m\u001b[0;34m\u001b[0m\u001b[0m\n",
      "\u001b[0;32m/usr/local/miniconda/lib/python3.8/site-packages/pandas/core/frame.py\u001b[0m in \u001b[0;36m__getitem__\u001b[0;34m(self, key)\u001b[0m\n\u001b[1;32m   3028\u001b[0m             \u001b[0;32mif\u001b[0m \u001b[0mis_iterator\u001b[0m\u001b[0;34m(\u001b[0m\u001b[0mkey\u001b[0m\u001b[0;34m)\u001b[0m\u001b[0;34m:\u001b[0m\u001b[0;34m\u001b[0m\u001b[0;34m\u001b[0m\u001b[0m\n\u001b[1;32m   3029\u001b[0m                 \u001b[0mkey\u001b[0m \u001b[0;34m=\u001b[0m \u001b[0mlist\u001b[0m\u001b[0;34m(\u001b[0m\u001b[0mkey\u001b[0m\u001b[0;34m)\u001b[0m\u001b[0;34m\u001b[0m\u001b[0;34m\u001b[0m\u001b[0m\n\u001b[0;32m-> 3030\u001b[0;31m             \u001b[0mindexer\u001b[0m \u001b[0;34m=\u001b[0m \u001b[0mself\u001b[0m\u001b[0;34m.\u001b[0m\u001b[0mloc\u001b[0m\u001b[0;34m.\u001b[0m\u001b[0m_get_listlike_indexer\u001b[0m\u001b[0;34m(\u001b[0m\u001b[0mkey\u001b[0m\u001b[0;34m,\u001b[0m \u001b[0maxis\u001b[0m\u001b[0;34m=\u001b[0m\u001b[0;36m1\u001b[0m\u001b[0;34m,\u001b[0m \u001b[0mraise_missing\u001b[0m\u001b[0;34m=\u001b[0m\u001b[0;32mTrue\u001b[0m\u001b[0;34m)\u001b[0m\u001b[0;34m[\u001b[0m\u001b[0;36m1\u001b[0m\u001b[0;34m]\u001b[0m\u001b[0;34m\u001b[0m\u001b[0;34m\u001b[0m\u001b[0m\n\u001b[0m\u001b[1;32m   3031\u001b[0m \u001b[0;34m\u001b[0m\u001b[0m\n\u001b[1;32m   3032\u001b[0m         \u001b[0;31m# take() does not accept boolean indexers\u001b[0m\u001b[0;34m\u001b[0m\u001b[0;34m\u001b[0m\u001b[0;34m\u001b[0m\u001b[0m\n",
      "\u001b[0;32m/usr/local/miniconda/lib/python3.8/site-packages/pandas/core/indexing.py\u001b[0m in \u001b[0;36m_get_listlike_indexer\u001b[0;34m(self, key, axis, raise_missing)\u001b[0m\n\u001b[1;32m   1264\u001b[0m             \u001b[0mkeyarr\u001b[0m\u001b[0;34m,\u001b[0m \u001b[0mindexer\u001b[0m\u001b[0;34m,\u001b[0m \u001b[0mnew_indexer\u001b[0m \u001b[0;34m=\u001b[0m \u001b[0max\u001b[0m\u001b[0;34m.\u001b[0m\u001b[0m_reindex_non_unique\u001b[0m\u001b[0;34m(\u001b[0m\u001b[0mkeyarr\u001b[0m\u001b[0;34m)\u001b[0m\u001b[0;34m\u001b[0m\u001b[0;34m\u001b[0m\u001b[0m\n\u001b[1;32m   1265\u001b[0m \u001b[0;34m\u001b[0m\u001b[0m\n\u001b[0;32m-> 1266\u001b[0;31m         \u001b[0mself\u001b[0m\u001b[0;34m.\u001b[0m\u001b[0m_validate_read_indexer\u001b[0m\u001b[0;34m(\u001b[0m\u001b[0mkeyarr\u001b[0m\u001b[0;34m,\u001b[0m \u001b[0mindexer\u001b[0m\u001b[0;34m,\u001b[0m \u001b[0maxis\u001b[0m\u001b[0;34m,\u001b[0m \u001b[0mraise_missing\u001b[0m\u001b[0;34m=\u001b[0m\u001b[0mraise_missing\u001b[0m\u001b[0;34m)\u001b[0m\u001b[0;34m\u001b[0m\u001b[0;34m\u001b[0m\u001b[0m\n\u001b[0m\u001b[1;32m   1267\u001b[0m         \u001b[0;32mreturn\u001b[0m \u001b[0mkeyarr\u001b[0m\u001b[0;34m,\u001b[0m \u001b[0mindexer\u001b[0m\u001b[0;34m\u001b[0m\u001b[0;34m\u001b[0m\u001b[0m\n\u001b[1;32m   1268\u001b[0m \u001b[0;34m\u001b[0m\u001b[0m\n",
      "\u001b[0;32m/usr/local/miniconda/lib/python3.8/site-packages/pandas/core/indexing.py\u001b[0m in \u001b[0;36m_validate_read_indexer\u001b[0;34m(self, key, indexer, axis, raise_missing)\u001b[0m\n\u001b[1;32m   1314\u001b[0m             \u001b[0;32mif\u001b[0m \u001b[0mraise_missing\u001b[0m\u001b[0;34m:\u001b[0m\u001b[0;34m\u001b[0m\u001b[0;34m\u001b[0m\u001b[0m\n\u001b[1;32m   1315\u001b[0m                 \u001b[0mnot_found\u001b[0m \u001b[0;34m=\u001b[0m \u001b[0mlist\u001b[0m\u001b[0;34m(\u001b[0m\u001b[0mset\u001b[0m\u001b[0;34m(\u001b[0m\u001b[0mkey\u001b[0m\u001b[0;34m)\u001b[0m \u001b[0;34m-\u001b[0m \u001b[0mset\u001b[0m\u001b[0;34m(\u001b[0m\u001b[0max\u001b[0m\u001b[0;34m)\u001b[0m\u001b[0;34m)\u001b[0m\u001b[0;34m\u001b[0m\u001b[0;34m\u001b[0m\u001b[0m\n\u001b[0;32m-> 1316\u001b[0;31m                 \u001b[0;32mraise\u001b[0m \u001b[0mKeyError\u001b[0m\u001b[0;34m(\u001b[0m\u001b[0;34mf\"{not_found} not in index\"\u001b[0m\u001b[0;34m)\u001b[0m\u001b[0;34m\u001b[0m\u001b[0;34m\u001b[0m\u001b[0m\n\u001b[0m\u001b[1;32m   1317\u001b[0m \u001b[0;34m\u001b[0m\u001b[0m\n\u001b[1;32m   1318\u001b[0m             \u001b[0mnot_found\u001b[0m \u001b[0;34m=\u001b[0m \u001b[0mkey\u001b[0m\u001b[0;34m[\u001b[0m\u001b[0mmissing_mask\u001b[0m\u001b[0;34m]\u001b[0m\u001b[0;34m\u001b[0m\u001b[0;34m\u001b[0m\u001b[0m\n",
      "\u001b[0;31mKeyError\u001b[0m: \"['left_mean_cortical_thickness'] not in index\""
     ]
    }
   ],
   "source": [
    "#Average cortical thickness for left and right hemisphere\n",
    "lr_mct_vis=data_df.copy()\n",
    "l_mct=lr_mct_vis[['group','cohort','left_mean_cortical_thickness']]; \n",
    "l_mct.loc[:,'Hemisphere']='Left'; \n",
    "l_mct.loc[:,'Mean cortical thickness']=l_mct.loc[:,'left_mean_cortical_thickness'];\n",
    "\n",
    "l_mct=l_mct.drop(columns=['left_mean_cortical_thickness'])\n",
    "r_mct=lr_mct_vis[['group','cohort','right_mean_cortical_thickness']]; \n",
    "r_mct.loc[:,'Hemisphere']='Right'; \n",
    "r_mct.loc[:,'Mean cortical thickness']=r_mct.loc[:,'right_mean_cortical_thickness'];\n",
    "r_mct=r_mct.drop(columns=['right_mean_cortical_thickness'])\n",
    "\n",
    "vis_df=pd.concat([r_mct, l_mct])\n",
    "vis_df=vis_df.sort_values(by=['Hemisphere'], ascending=1)\n",
    "\n",
    "vis_mni_df=vis_df.copy()\n",
    "vis_mni_df=vis_mni_df[vis_mni_df['cohort']=='MNI'];\n",
    "sns.set_theme(style=\"whitegrid\")\n",
    "sns.set(font_scale=1.5)\n",
    "\n",
    "# Draw a nested violinplot and split the violins for easier comparison\n",
    "fig, ax = plt.subplots(figsize=(14, 10))\n",
    "sns.violinplot(data=vis_df, x=\"group\", y=\"Mean cortical thickness\", hue=\"Hemisphere\", order=['ET','NC'],split=True, inner=\"quartile\", linewidth=1, palette=\"muted\", ax=ax)\n",
    "#sns.despine(left=True)\n",
    "ax.set_title('Mean cortical thickness between ET and NC (Augmented cohort, Destrieux 2009a Atlas)', fontsize=20)\n",
    "\n",
    "fig1, ax1 = plt.subplots(figsize=(14, 10))\n",
    "sns.violinplot(data=vis_mni_df, x=\"group\", y=\"Mean cortical thickness\", hue=\"Hemisphere\", order=['ET','NC'],split=True, inner=\"quartile\", linewidth=1, palette=\"muted\", ax=ax1)\n",
    "#sns.despine(left=True)\n",
    "ax1.set_title('Mean cortical thickness between ET and NC (MNI cohort, Destrieux 2009a Atlas)', fontsize=20)\n",
    "\n",
    "#fig.savefig(\"AugCohort_SUIT-MAGeT_comp.jpg\")"
   ]
  },
  {
   "cell_type": "code",
   "execution_count": 5,
   "id": "9e13d633-bf77-430c-8456-ddcd7476c27b",
   "metadata": {},
   "outputs": [
    {
     "ename": "NameError",
     "evalue": "name 'cerebellum_list' is not defined",
     "output_type": "error",
     "traceback": [
      "\u001b[0;31m---------------------------------------------------------------------------\u001b[0m",
      "\u001b[0;31mNameError\u001b[0m                                 Traceback (most recent call last)",
      "\u001b[0;32m/tmp/ipykernel_2349/2998605179.py\u001b[0m in \u001b[0;36m<module>\u001b[0;34m\u001b[0m\n\u001b[1;32m      2\u001b[0m \u001b[0mC_MAP\u001b[0m\u001b[0;34m=\u001b[0m\u001b[0;34m'coolwarm'\u001b[0m\u001b[0;34m;\u001b[0m \u001b[0mTH\u001b[0m\u001b[0;34m=\u001b[0m\u001b[0;36m0.3\u001b[0m\u001b[0;34m\u001b[0m\u001b[0;34m\u001b[0m\u001b[0m\n\u001b[1;32m      3\u001b[0m \u001b[0mvis_df\u001b[0m\u001b[0;34m=\u001b[0m\u001b[0mdata_df\u001b[0m\u001b[0;34m.\u001b[0m\u001b[0mcopy\u001b[0m\u001b[0;34m(\u001b[0m\u001b[0;34m)\u001b[0m\u001b[0;34m\u001b[0m\u001b[0;34m\u001b[0m\u001b[0m\n\u001b[0;32m----> 4\u001b[0;31m \u001b[0mvis_df\u001b[0m\u001b[0;34m=\u001b[0m\u001b[0mvis_df\u001b[0m\u001b[0;34m.\u001b[0m\u001b[0mloc\u001b[0m\u001b[0;34m[\u001b[0m\u001b[0;34m:\u001b[0m\u001b[0;34m,\u001b[0m\u001b[0mcerebellum_list\u001b[0m\u001b[0;34m+\u001b[0m\u001b[0mSUIT_l_labels\u001b[0m\u001b[0;34m+\u001b[0m\u001b[0mSUIT_v_labels\u001b[0m\u001b[0;34m+\u001b[0m\u001b[0mSUIT_r_labels\u001b[0m\u001b[0;34m+\u001b[0m\u001b[0mDes_atlas_rh_list\u001b[0m\u001b[0;34m+\u001b[0m\u001b[0mDes_atlas_lh_list\u001b[0m\u001b[0;34m]\u001b[0m\u001b[0;34m\u001b[0m\u001b[0;34m\u001b[0m\u001b[0m\n\u001b[0m\u001b[1;32m      5\u001b[0m \u001b[0;34m\u001b[0m\u001b[0m\n\u001b[1;32m      6\u001b[0m \u001b[0mcorr_\u001b[0m\u001b[0;34m=\u001b[0m\u001b[0mvis_df\u001b[0m\u001b[0;34m.\u001b[0m\u001b[0mcorr\u001b[0m\u001b[0;34m(\u001b[0m\u001b[0;34m)\u001b[0m\u001b[0;34m\u001b[0m\u001b[0;34m\u001b[0m\u001b[0m\n",
      "\u001b[0;31mNameError\u001b[0m: name 'cerebellum_list' is not defined"
     ]
    }
   ],
   "source": [
    "# Heatmap of correlation between cerebellum ROIs and cortical thickness measures, MNI cohort\n",
    "C_MAP='coolwarm'; TH=0.3\n",
    "vis_df=data_df.copy()\n",
    "vis_df=vis_df.loc[:,cerebellum_list+SUIT_l_labels+SUIT_v_labels+SUIT_r_labels+Des_atlas_rh_list+Des_atlas_lh_list]\n",
    "\n",
    "corr_=vis_df.corr()\n",
    "mask_=corr_.where(np.abs(corr_)>TH, True).copy()\n",
    "mask_=mask_.applymap(lambda x: False if isinstance(x, float) else True, na_action='ignore')\n",
    "#mask_=mask_.where(mask_==np.NaN, True)\n",
    "\n",
    "# Draw a heatmap with the numeric values in each cell\n",
    "f1, ax = plt.subplots(figsize=(30, 20))\n",
    "sns.heatmap(corr_, ax=ax, annot=False, fmt=\".2f\", mask=mask_,\n",
    "            vmax=1, vmin=-1, cmap=C_MAP, square=True, linewidths=.05)\n",
    "ax.set_ylabel(\"Cerebellum volumes (upper), Cortical Thickness(lower)\")\n",
    "ax.set_xlabel(\"Cerebellum volumes (left), Cortical Thickness(right)\")\n",
    "ax.set_title('Correlation between Cerebellum volumns and cortical thickness (MNI cohort ET+NC)', fontsize=28)\n",
    "#line_pos=[end_lubule_list,end_lubule_list+len(SUIT_v_labels),end_lubule_list*2+len(SUIT_v_labels),end_lubule_list*3+len(SUIT_v_labels)]\n",
    "#for x in line_pos:\n",
    "#    plt.axhline(x, ls='--',c='k', lw=3); plt.axvline(x, ls='--',c='k', lw=3)\n",
    "#f1.savefig(\"MNI_SUIT-MAGeT_comp.jpg\")\n",
    "display(corr_)"
   ]
  },
  {
   "cell_type": "code",
   "execution_count": null,
   "id": "d12d0c78-1292-47bf-9894-be75d04fd651",
   "metadata": {},
   "outputs": [],
   "source": []
  }
 ],
 "metadata": {
  "kernelspec": {
   "display_name": "Python 3 (ipykernel)",
   "language": "python",
   "name": "python3"
  },
  "language_info": {
   "codemirror_mode": {
    "name": "ipython",
    "version": 3
   },
   "file_extension": ".py",
   "mimetype": "text/x-python",
   "name": "python",
   "nbconvert_exporter": "python",
   "pygments_lexer": "ipython3",
   "version": "3.8.5"
  }
 },
 "nbformat": 4,
 "nbformat_minor": 5
}
