{
 "cells": [
  {
   "cell_type": "markdown",
   "id": "c20e8002-cf89-475c-8a23-de236a2fa3c8",
   "metadata": {},
   "source": [
    "# Cerebellar volumetry and cortical thickness covariance \n",
    "## Data: \n",
    "    - 1. Freesurfer cortical thickness measures in Detri atlas;\n",
    "    - 2. Cerebellar lobular volumnes from SUIT/MDTB/MAGeT softwares; \n",
    "## Cohorts\n",
    "- Current cohort: MNI ET/NC (38/32), PPMI/ADNI NC (116/308) QC to be applied.\n",
    "\n",
    "## Tasks: exploring the structural covariance with cerebellar volumes \n",
    "    - 1. ??\n",
    "    - 2. ??\n",
    "    \n",
    "## tbd"
   ]
  },
  {
   "cell_type": "code",
   "execution_count": 1,
   "id": "3a364d3d-548a-4d7d-aabb-33fe9bc3e108",
   "metadata": {},
   "outputs": [
    {
     "name": "stdout",
     "output_type": "stream",
     "text": [
      "211112-00:03:29,87 nipype.utils WARNING:\n",
      "\t A newer version (1.7.0) of nipy/nipype is available. You are using 1.5.0\n"
     ]
    }
   ],
   "source": [
    "## read demographic data and freesurfer outputs\n",
    "from pathlib import Path\n",
    "import nipype.interfaces.io as nio\n",
    "import pandas as pd\n",
    "import numpy as np\n",
    "import seaborn as sns\n",
    "import matplotlib.pyplot as plt\n",
    "\n",
    "data_dir = Path(\"/codes/tab_data\")\n",
    "data_all_file  = data_dir/'all_Des-cere_preped_qcInfo.csv'\n",
    "data_df    = pd.read_csv(data_all_file , sep=',', header=0, index_col=0);"
   ]
  },
  {
   "cell_type": "code",
   "execution_count": 2,
   "id": "811443e6-e4d1-430d-bf5a-395c510bba02",
   "metadata": {},
   "outputs": [],
   "source": [
    "# prepare data for this script\n",
    "SUIT_labels = ['Left_I_IV','Right_I_IV','Left_V','Right_V','Left_VI','Vermis_VI','Right_VI','Left_CrusI','Vermis_CrusI','Right_CrusI','Left_CrusII','Vermis_CrusII','Right_CrusII','Left_VIIb','Vermis_VIIb','Right_VIIb','Left_VIIIa','Vermis_VIIIa','Right_VIIIa','Left_VIIIb','Vermis_VIIIb','Right_VIIIb','Left_IX','Vermis_IX','Right_IX','Left_X','Vermis_X','Right_X','Left_Dentate','Right_Dentate','Left_Interposed','Right_Interposed','Left_Fastigial','Right_Fastigial'];\n",
    "SUIT_labels = [ x.replace('-','_') for x in SUIT_labels]\n",
    "SUIT_l_labels = ['Left_I_IV',  'Left_V', 'Left_VI', 'Left_CrusI', 'Left_CrusII', 'Left_VIIb', 'Left_VIIIa', 'Left_VIIIb', 'Left_IX', 'Left_X', 'Left_Dentate', 'Left_Interposed', 'Left_Fastigial'];\n",
    "SUIT_r_labels = ['Right_I_IV','Right_V','Right_VI','Right_CrusI','Right_CrusII','Right_VIIb','Right_VIIIa','Right_VIIIb','Right_IX','Right_X','Right_Dentate','Right_Interposed','Right_Fastigial'];\n",
    "SUIT_v_labels = ['Vermis_VI', 'Vermis_CrusI', 'Vermis_CrusII', 'Vermis_VIIb', 'Vermis_VIIIa','Vermis_VIIIb', 'Vermis_IX', 'Vermis_X'];\n",
    "MDTB_labels   = ['MDTB_'+str(x+1) for x in range(10)];\n",
    "qc_list = ['freesurfer_score', 'suit_score', 'maget_score']\n",
    "analysis_list = ['age','sex','group','site','eTIV','SupraTentorialVol', 'SupraTentorialVolNotVent',\n",
    "                 'Left_Cerebellum_White_Matter','Left_Cerebellum_Cortex','Right_Cerebellum_White_Matter','Right_Cerebellum_Cortex']+SUIT_l_labels+SUIT_r_labels+SUIT_v_labels+MDTB_labels+qc_list;\n",
    "# selection and create new cols\n",
    "curr_df = data_df.loc[:,analysis_list]\n",
    "curr_df.loc[:,'Cerebellum_White_Matter']=curr_df['Left_Cerebellum_White_Matter']+curr_df['Right_Cerebellum_White_Matter'];\n",
    "curr_df.loc[:,'Cerebellum_Cortex']=curr_df['Left_Cerebellum_Cortex']+curr_df['Right_Cerebellum_Cortex'];\n",
    "curr_df.loc[:,'cerebellumVol']=curr_df['Cerebellum_Cortex']+curr_df['Cerebellum_White_Matter']\n",
    "# calculate the Infra tentorial volumen approximately by eTIV-SupraTentorialVol\n",
    "curr_df.loc[:,'InfraTentorialVol']=curr_df['eTIV']-curr_df['SupraTentorialVol']\n",
    "curr_df.loc[:,'male']=[int(x=='M') for x in curr_df['sex']]\n",
    "df_all.loc[:,'is_mni'] =[1 if int(x=='ET' or x=='NC') else 0 for x in df_all['group']]\n",
    "df_all.loc[:,'is_ppmi']=[int(x=='PPMI') for x in df_all['group']]\n",
    "df_all.loc[:,'is_adni']=[int(x=='ADNI') for x in df_all['group']]\n",
    "df_all.loc[:,'group']  =[x if x=='ET' else 'NC' for x in df_all['group']]"
   ]
  },
  {
   "cell_type": "code",
   "execution_count": 3,
   "id": "10333afa-622b-48ad-b59f-1f8a2538b0d6",
   "metadata": {},
   "outputs": [],
   "source": [
    "### statistical analysis\n",
    "import pandas as pd\n",
    "import numpy as np\n",
    "import seaborn as sns\n",
    "import matplotlib.pyplot as plt\n",
    "from utils_et_biomarker.utils import ctr_tiv, glm_test, rep_model, ctr_by_nc, cal_es,creat_Bonf_df\n",
    "\n",
    "# get the MNI dataset for ET/NC analysis\n",
    "df = curr_df[(curr_df['group']=='ET')|(curr_df['group']=='NC')].copy()\n",
    "\n",
    "# get all 3 datasets for ET/NC analysis\n",
    "df_all=curr_df.copy()\n",
    "df_all.loc[:,'is_mni'] =[1 if int(x=='ET' or x=='NC') else 0 for x in df_all['group']]\n",
    "df_all.loc[:,'is_ppmi']=[int(x=='PPMI') for x in df_all['group']]\n",
    "df_all.loc[:,'is_adni']=[int(x=='ADNI') for x in df_all['group']]\n",
    "df_all.loc[:,'group']  =[x if x=='ET' else 'NC' for x in df_all['group']]\n",
    "\n",
    "## covariates and target labels\n",
    "info_list=['age','sex','group','site','eTIV','SupraTentorialVol', 'SupraTentorialVolNotVent','InfraTentorialVol']\n",
    "cerebellum_list = ['Left_Cerebellum_Cortex','Left_Cerebellum_White_Matter',\n",
    "                   'Right_Cerebellum_Cortex','Right_Cerebellum_White_Matter',\n",
    "                   'Cerebellum_Cortex','Cerebellum_White_Matter'];\n",
    "lobular_list = ['Vermis_VI', 'Vermis_CrusI', 'Vermis_CrusII', \n",
    "                'Left_CrusI', 'Right_CrusI', 'Left_CrusII', 'Right_CrusII','Left_Dentate', 'Right_Dentate',\n",
    "                'MDTB_1', 'MDTB_2', 'MDTB_4', 'MDTB_5'];\n",
    "tar_list = cerebellum_list+lobular_list;\n",
    "\n",
    "df_n_comp=pd.DataFrame(zip(cerebellum_list+lobular_list, [4,4,4,4,2,2, 9,9,9,9,9,9,9,9,9, 4,4,4,4]), \n",
    "                       index=cerebellum_list+lobular_list, columns=['ROI','n_comp'])\n",
    "\n",
    "# Applying QC \n",
    "qc_th=2\n",
    "\n",
    "df_qc=df[(df['freesurfer_score']>=qc_th)&(df['suit_score']>=qc_th)&(df['maget_score']>=qc_th)];\n",
    "df_all_qc=df_all[(df_all['freesurfer_score']>=qc_th)&(df_all['suit_score']>=qc_th)&(df_all['maget_score']>=qc_th)]"
   ]
  },
  {
   "cell_type": "code",
   "execution_count": null,
   "id": "dd920cf3-8fca-429a-8777-88fa77031ced",
   "metadata": {},
   "outputs": [],
   "source": []
  }
 ],
 "metadata": {
  "kernelspec": {
   "display_name": "Python 3 (ipykernel)",
   "language": "python",
   "name": "python3"
  },
  "language_info": {
   "codemirror_mode": {
    "name": "ipython",
    "version": 3
   },
   "file_extension": ".py",
   "mimetype": "text/x-python",
   "name": "python",
   "nbconvert_exporter": "python",
   "pygments_lexer": "ipython3",
   "version": "3.8.5"
  }
 },
 "nbformat": 4,
 "nbformat_minor": 5
}
