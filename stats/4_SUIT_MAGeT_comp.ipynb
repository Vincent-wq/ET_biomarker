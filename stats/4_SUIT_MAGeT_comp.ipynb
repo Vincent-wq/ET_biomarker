{
 "cells": [
  {
   "cell_type": "markdown",
   "id": "c892691d-9b63-4423-bfb7-68258e2f9c67",
   "metadata": {},
   "source": [
    "# Cerebellar volumetry analysis with GLM: Comparing MAGeT ans SUIT results\n",
    "## Data: \n",
    "    - 1. Cerebellar SUIT segmentation with SUIT and MDTB atlas; \n",
    "         - SUIT: Vermis VI, Vermis_CrusI,  Vermis_CrusII, CrusI, CrusII, Dentate nucleus;\n",
    "         - MBTB: MDTB functional regions 1,2,4,5;\n",
    "    - 2. Cerebellar MAGeTBrain [MAGeTBrain pipeline](https://github.com/CobraLab/documentation/wiki/MAGeTBrain#collecting-volumes)\n",
    "        - MAGeT: Vermis VI, Vermis_CrusI,  Vermis_CrusII, CrusI, CrusII;\n",
    "\n",
    "## Cohorts\n",
    "- Current cohort: MNI ET/NC (38/32), PPMI/ADNI NC (116/308) QC to be applied.\n",
    "\n",
    "## Tasks: GLM for \n",
    "- Compare total cerebellar volumes (left and right)\n",
    "- Compare lobule volumes (13 per hemisphere)\n",
    "\n",
    "## Covariates\n",
    "- Age, Sex, intracranial volume (eTIV, infratentorium, cerebellar volume), site."
   ]
  },
  {
   "cell_type": "code",
   "execution_count": 26,
   "id": "26a950a7-d7af-47fc-a6bf-4ea845b5353f",
   "metadata": {},
   "outputs": [],
   "source": [
    "#reading/merging/selecting data\n",
    "from pathlib import Path\n",
    "import nipype.interfaces.io as nio\n",
    "import pandas as pd\n",
    "import numpy as np\n",
    "import seaborn as sns\n",
    "import matplotlib.pyplot as plt\n",
    "\n",
    "data_dir = Path(\"/codes/tab_data\")\n",
    "maget_dir = Path(\"/codes/preproc/maget/results\")\n",
    "cohorts_str = ['ADNI','ET','NC','PPMI']\n",
    "et_maget_read = pd.read_csv(maget_dir/('ET_volumes.csv'), sep=',', header=0, index_col=0)\n",
    "et_maget_read.index= [x[2:10] for x in et_maget_read.index]\n",
    "nc_maget_read = pd.read_csv(maget_dir/('NC_volumes.csv'), sep=',', header=0, index_col=0)\n",
    "nc_maget_read.index= [x[2:10] for x in nc_maget_read.index]\n",
    "adni_maget_read = pd.read_csv(maget_dir/('ADNI_volumes.csv'), sep=',', header=0, index_col=0)\n",
    "ppmi_maget_read = pd.read_csv(maget_dir/('PPMI_volumes.csv'), sep=',', header=0, index_col=0)\n",
    "maget_df = pd.concat([et_maget_read,nc_maget_read,ppmi_maget_read,adni_maget_read])\n",
    "maget_df.index= [x.replace('-','_') for x in maget_df.index]\n",
    "\n",
    "#[maget_res=maget_res+{x: pd.read_csv(maget_dir/(x+\"_volumes.csv\"), sep=',', header=0, index_col=0)} for x in cohorts_str]\n",
    "data_all_file  = data_dir/'all_Des-cere_preped_qcInfo.csv'\n",
    "data_df    = pd.read_csv(data_all_file , sep=',', header=0, index_col=0);"
   ]
  },
  {
   "cell_type": "code",
   "execution_count": 32,
   "id": "e072dda7-62bf-4e50-a8da-40769af8348a",
   "metadata": {},
   "outputs": [
    {
     "data": {
      "text/plain": [
       "34"
      ]
     },
     "execution_count": 32,
     "metadata": {},
     "output_type": "execute_result"
    }
   ],
   "source": [
    "#GLM analysis and non-parametric comparison\n",
    "SUIT_l_labels = ['Left_I_IV',  'Left_V', 'Left_VI', 'Left_CrusI', 'Left_CrusII', \n",
    "                 'Left_VIIb', 'Left_VIIIa', 'Left_VIIIb', 'Left_IX', 'Left_X', \n",
    "                 'Left_Dentate', 'Left_Interposed', 'Left_Fastigial'];\n",
    "SUIT_r_labels = ['Right_I_IV','Right_V','Right_VI','Right_CrusI','Right_CrusII',\n",
    "                 'Right_VIIb','Right_VIIIa','Right_VIIIb','Right_IX','Right_X',\n",
    "                 'Right_Dentate','Right_Interposed','Right_Fastigial'];\n",
    "SUIT_v_labels = ['Vermis_VI', 'Vermis_CrusI', 'Vermis_CrusII', 'Vermis_VIIb', \n",
    "                 'Vermis_VIIIa','Vermis_VIIIb', 'Vermis_IX', 'Vermis_X'];\n",
    "len(SUIT_l_labels+SUIT_r_labels+SUIT_v_labels)"
   ]
  },
  {
   "cell_type": "code",
   "execution_count": 33,
   "id": "f22b7a9a-d144-46b4-b470-b83a7f39402e",
   "metadata": {},
   "outputs": [
    {
     "data": {
      "text/plain": [
       "Index(['L_I_II', 'L_III', 'L_IV', 'L_V', 'L_VI', 'L_Crus_I', 'L_Crus_II',\n",
       "       'L_VIIB', 'L_VIIIA', 'L_VIIIB', 'L_IX', 'L_X', 'L_CM', 'R_I_II',\n",
       "       'R_III', 'R_IV', 'R_V', 'R_VI', 'R_Crus_I', 'R_Crus_II', 'R_VIIB',\n",
       "       'R_VIIIA', 'R_VIIIB', 'R_IX', 'R_X', 'R_CM'],\n",
       "      dtype='object')"
      ]
     },
     "execution_count": 33,
     "metadata": {},
     "output_type": "execute_result"
    }
   ],
   "source": [
    "#Visualizatoin\n",
    "maget_df.columns\n",
    "['L_I_II', 'L_III', 'L_IV', 'L_V', 'L_VI', 'L_Crus_I', 'L_Crus_II', 'L_VIIB',\n",
    " 'L_VIIIA', 'L_VIIIB', 'L_IX', 'L_X', 'L_CM',\n",
    " 'R_I_II', 'R_III', 'R_IV', 'R_V', 'R_VI', 'R_Crus_I', 'R_Crus_II', 'R_VIIB',\n",
    " 'R_VIIIA', 'R_VIIIB', 'R_IX', 'R_X', 'R_CM']"
   ]
  },
  {
   "cell_type": "code",
   "execution_count": null,
   "id": "96efe196-6e84-4ddb-8d37-6fb4066146da",
   "metadata": {},
   "outputs": [],
   "source": []
  }
 ],
 "metadata": {
  "kernelspec": {
   "display_name": "Python 3 (ipykernel)",
   "language": "python",
   "name": "python3"
  },
  "language_info": {
   "codemirror_mode": {
    "name": "ipython",
    "version": 3
   },
   "file_extension": ".py",
   "mimetype": "text/x-python",
   "name": "python",
   "nbconvert_exporter": "python",
   "pygments_lexer": "ipython3",
   "version": "3.8.5"
  }
 },
 "nbformat": 4,
 "nbformat_minor": 5
}
