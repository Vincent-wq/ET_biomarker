{
 "cells": [
  {
   "cell_type": "markdown",
   "id": "c892691d-9b63-4423-bfb7-68258e2f9c67",
   "metadata": {},
   "source": [
    "# Cerebellar volumetry analysis with GLM: Comparing MAGeT ans SUIT results\n",
    "## Data: \n",
    "    - 1. Cerebellar SUIT segmentation with SUIT and MDTB atlas; \n",
    "         - SUIT: Vermis VI, Vermis_CrusI,  Vermis_CrusII, CrusI, CrusII, Dentate nucleus;\n",
    "         - MBTB: MDTB functional regions 1,2,4,5;\n",
    "    - 2. Cerebellar MAGeTBrain [MAGeTBrain pipeline](https://github.com/CobraLab/documentation/wiki/MAGeTBrain#collecting-volumes)\n",
    "        - MAGeT: Vermis VI, Vermis_CrusI,  Vermis_CrusII, CrusI, CrusII;\n",
    "\n",
    "## Cohorts\n",
    "- Current cohort: MNI ET/NC (38/32), PPMI/ADNI NC (116/308) QC to be applied.\n",
    "\n",
    "## Tasks: GLM for \n",
    "- Compare total cerebellar volumes (left and right)\n",
    "- Compare lobule volumes (13 per hemisphere)\n",
    "\n",
    "## Covariates\n",
    "- Age, Sex, intracranial volume (eTIV, infratentorium, cerebellar volume), site."
   ]
  },
  {
   "cell_type": "code",
   "execution_count": 1,
   "id": "26a950a7-d7af-47fc-a6bf-4ea845b5353f",
   "metadata": {},
   "outputs": [
    {
     "ename": "NameError",
     "evalue": "name 'tbd' is not defined",
     "output_type": "error",
     "traceback": [
      "\u001b[0;31m---------------------------------------------------------------------------\u001b[0m",
      "\u001b[0;31mNameError\u001b[0m                                 Traceback (most recent call last)",
      "\u001b[0;32m/tmp/ipykernel_67/2317860633.py\u001b[0m in \u001b[0;36m<module>\u001b[0;34m\u001b[0m\n\u001b[0;32m----> 1\u001b[0;31m \u001b[0mtbd\u001b[0m\u001b[0;34m\u001b[0m\u001b[0;34m\u001b[0m\u001b[0m\n\u001b[0m",
      "\u001b[0;31mNameError\u001b[0m: name 'tbd' is not defined"
     ]
    }
   ],
   "source": [
    "#reading/merging/selecting data"
   ]
  },
  {
   "cell_type": "code",
   "execution_count": null,
   "id": "e072dda7-62bf-4e50-a8da-40769af8348a",
   "metadata": {},
   "outputs": [],
   "source": [
    "#GLM analysis and non-parametric comparison"
   ]
  },
  {
   "cell_type": "code",
   "execution_count": null,
   "id": "f22b7a9a-d144-46b4-b470-b83a7f39402e",
   "metadata": {},
   "outputs": [],
   "source": [
    "#Visualizatoin"
   ]
  },
  {
   "cell_type": "code",
   "execution_count": null,
   "id": "96efe196-6e84-4ddb-8d37-6fb4066146da",
   "metadata": {},
   "outputs": [],
   "source": []
  }
 ],
 "metadata": {
  "kernelspec": {
   "display_name": "Python 3 (ipykernel)",
   "language": "python",
   "name": "python3"
  },
  "language_info": {
   "codemirror_mode": {
    "name": "ipython",
    "version": 3
   },
   "file_extension": ".py",
   "mimetype": "text/x-python",
   "name": "python",
   "nbconvert_exporter": "python",
   "pygments_lexer": "ipython3",
   "version": "3.8.5"
  }
 },
 "nbformat": 4,
 "nbformat_minor": 5
}
