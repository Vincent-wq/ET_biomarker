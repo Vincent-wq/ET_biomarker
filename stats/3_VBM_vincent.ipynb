{
 "cells": [
  {
   "cell_type": "markdown",
   "metadata": {},
   "source": [
    "# Code for VBM analysis\n",
    "- Code adapted from: [Grégory Operto](http://xgrg.github.io/VBM-voxelwise-multiple-regression-in-Python/)\n",
    "- and niLearn example: [niLearn VBM example](https://nilearn.github.io/auto_examples/02_decoding/plot_oasis_vbm.html)\n",
    "- Uses subject list from:\n",
    "- Uses cerebellar brain-masks from freesurfer or mni template \n",
    "## Cohorts\n",
    "- Essential Tremor, Normal Controls\n",
    "## Tasks\n",
    "- VBM for MNI ET/NC and MNI ET/{MERGED_NC}\n",
    "## Covariates\n",
    "- Age, Sex, site, TBV"
   ]
  },
  {
   "cell_type": "code",
   "execution_count": 1,
   "metadata": {},
   "outputs": [
    {
     "name": "stderr",
     "output_type": "stream",
     "text": [
      "\n",
      "Bad key \"text.kerning_factor\" on line 4 in\n",
      "/usr/local/miniconda/lib/python3.7/site-packages/matplotlib/mpl-data/stylelib/_classic_test_patch.mplstyle.\n",
      "You probably need to get an updated matplotlibrc file from\n",
      "http://github.com/matplotlib/matplotlib/blob/master/matplotlibrc.template\n",
      "or from the matplotlib source distribution\n"
     ]
    }
   ],
   "source": [
    "import pandas as pd\n",
    "import os\n",
    "import sys\n",
    "import seaborn as sns\n",
    "import matplotlib.pyplot as plt\n",
    "import numpy as np\n",
    "import statsmodels.api as sm\n",
    "import statsmodels.formula.api as smf\n",
    "import nibabel as nib\n",
    "\n",
    "sys.path.append('../')\n",
    "from lib.stats_utils import *"
   ]
  },
  {
   "cell_type": "markdown",
   "metadata": {},
   "source": [
    "### Paths"
   ]
  },
  {
   "cell_type": "code",
   "execution_count": 16,
   "metadata": {},
   "outputs": [],
   "source": [
    "project_dir = '../../../'\n",
    "data_dir = '/codes/tab_data/'\n",
    "metadata_dir = '../metadata/'\n",
    "results_dir = '/codes/tab_data/MAGeT/'"
   ]
  },
  {
   "cell_type": "markdown",
   "metadata": {},
   "source": [
    "### Participant demographics"
   ]
  },
  {
   "cell_type": "code",
   "execution_count": 10,
   "metadata": {},
   "outputs": [
    {
     "name": "stdout",
     "output_type": "stream",
     "text": [
      "Total number of participants included: 113 (excluded: 22)\n",
      "\n",
      "MAGet failures: set()\n"
     ]
    },
    {
     "data": {
      "text/html": [
       "<div>\n",
       "<style scoped>\n",
       "    .dataframe tbody tr th:only-of-type {\n",
       "        vertical-align: middle;\n",
       "    }\n",
       "\n",
       "    .dataframe tbody tr th {\n",
       "        vertical-align: top;\n",
       "    }\n",
       "\n",
       "    .dataframe thead th {\n",
       "        text-align: right;\n",
       "    }\n",
       "</style>\n",
       "<table border=\"1\" class=\"dataframe\">\n",
       "  <thead>\n",
       "    <tr style=\"text-align: right;\">\n",
       "      <th></th>\n",
       "      <th>Participant_id</th>\n",
       "      <th>Age</th>\n",
       "      <th>Sex</th>\n",
       "      <th>group</th>\n",
       "      <th>Include in analysis</th>\n",
       "      <th>conversion Problem</th>\n",
       "      <th>opteration</th>\n",
       "      <th>T1w</th>\n",
       "      <th>T2w</th>\n",
       "      <th>dwi</th>\n",
       "      <th>...</th>\n",
       "      <th>bold fmap</th>\n",
       "      <th>swi</th>\n",
       "      <th>fmriprep (ses-1) anat only</th>\n",
       "      <th>freesurfer-6.0.1</th>\n",
       "      <th>fmriprep (ses-1) anat + bold prprocessing</th>\n",
       "      <th>T1-QC</th>\n",
       "      <th>T1-template</th>\n",
       "      <th>SUIT () cerebellum segmentation</th>\n",
       "      <th>MAGeT processing</th>\n",
       "      <th>MAGet Comments</th>\n",
       "    </tr>\n",
       "  </thead>\n",
       "  <tbody>\n",
       "  </tbody>\n",
       "</table>\n",
       "<p>0 rows × 22 columns</p>\n",
       "</div>"
      ],
      "text/plain": [
       "Empty DataFrame\n",
       "Columns: [Participant_id, Age, Sex, group, Include in analysis, conversion Problem, opteration, T1w, T2w, dwi, dwi fmap, bold, bold fmap, swi, fmriprep (ses-1) anat only, freesurfer-6.0.1, fmriprep (ses-1) anat + bold prprocessing, T1-QC , T1-template, SUIT () cerebellum segmentation, MAGeT processing, MAGet Comments]\n",
       "Index: []\n",
       "\n",
       "[0 rows x 22 columns]"
      ]
     },
     "execution_count": 10,
     "metadata": {},
     "output_type": "execute_result"
    }
   ],
   "source": [
    "participant_df = pd.read_csv('{}participants.csv'.format(data_dir))\n",
    "\n",
    "# exclusions\n",
    "exclude_subjects = list(participant_df[participant_df['Include in analysis']==0]['Participant_id'])\n",
    "exclude_subjects = exclude_subjects + ['sub-0123'] # Age unknow ['?']\n",
    "\n",
    "participant_df = participant_df[~participant_df['Participant_id'].isin(exclude_subjects)]\n",
    "include_subjects = participant_df['Participant_id'].values\n",
    "print('Total number of participants included: {} (excluded: {})'.format(len(include_subjects),len(exclude_subjects)))\n",
    "\n",
    "# reformat columns\n",
    "participant_df['Age'] = participant_df['Age'].astype(np.int)\n",
    "age_df = participant_df.groupby(['group','Sex'])[['Age']].mean()\n",
    "sex_df = participant_df.groupby(['group','Sex']).count()['Participant_id']\n",
    "#print(pd.merge(age_df,sex_df,on=['group','Sex']))\n",
    "\n",
    "## Check preproc subject count\n",
    "\n",
    "failed_subjects = set(include_subjects) - set(participant_df[participant_df['MAGeT processing']==1]['Participant_id'])\n",
    "print('\\nMAGet failures: {}'.format(failed_subjects))\n",
    "\n",
    "participant_df[participant_df['Participant_id'].isin(failed_subjects)]"
   ]
  },
  {
   "cell_type": "code",
   "execution_count": 2,
   "metadata": {},
   "outputs": [],
   "source": [
    "# nilearn vbm\n",
    "%matplotlib inline"
   ]
  },
  {
   "cell_type": "code",
   "execution_count": null,
   "metadata": {},
   "outputs": [],
   "source": [
    "# Authors: Elvis Dhomatob, <elvis.dohmatob@inria.fr>, Apr. 2014\n",
    "#          Virgile Fritsch, <virgile.fritsch@inria.fr>, Apr 2014\n",
    "#          Gael Varoquaux, Apr 2014\n",
    "#          Andres Hoyos-Idrobo, Apr 2017\n",
    "import numpy as np\n",
    "import matplotlib.pyplot as plt\n",
    "from nilearn import datasets\n",
    "from nilearn.input_data import NiftiMasker\n",
    "from nilearn.image import get_data\n",
    "\n",
    "n_subjects = 100  # more subjects requires more memory"
   ]
  },
  {
   "cell_type": "code",
   "execution_count": null,
   "metadata": {},
   "outputs": [],
   "source": [
    "# load data\n",
    "oasis_dataset = datasets.fetch_oasis_vbm(n_subjects=n_subjects)\n",
    "gray_matter_map_filenames = oasis_dataset.gray_matter_maps\n",
    "age = oasis_dataset.ext_vars['age'].astype(float)\n",
    "\n",
    "# Split data into training set and test set\n",
    "from sklearn.model_selection import train_test_split\n",
    "gm_imgs_train, gm_imgs_test, age_train, age_test = train_test_split(\n",
    "    gray_matter_map_filenames, age, train_size=.6, random_state=0)\n",
    "\n",
    "# print basic information on the dataset\n",
    "print('First gray-matter anatomy image (3D) is located at: %s' %\n",
    "      oasis_dataset.gray_matter_maps[0])  # 3D data\n",
    "print('First white-matter anatomy image (3D) is located at: %s' %\n",
    "      oasis_dataset.white_matter_maps[0])  # 3D data"
   ]
  },
  {
   "cell_type": "code",
   "execution_count": null,
   "metadata": {},
   "outputs": [],
   "source": [
    "# preproc\n",
    "nifti_masker = NiftiMasker(\n",
    "    standardize=False,\n",
    "    smoothing_fwhm=2,\n",
    "    memory='nilearn_cache')  # cache options\n",
    "gm_maps_masked = nifti_masker.fit_transform(gm_imgs_train)\n",
    "\n",
    "# The features with too low between-subject variance are removed using\n",
    "# :class:`sklearn.feature_selection.VarianceThreshold`.\n",
    "from sklearn.feature_selection import VarianceThreshold\n",
    "variance_threshold = VarianceThreshold(threshold=.01)\n",
    "gm_maps_thresholded = variance_threshold.fit_transform(gm_maps_masked)\n",
    "gm_maps_masked = variance_threshold.inverse_transform(gm_maps_thresholded)\n",
    "\n",
    "# Then we convert the data back to the mask image in order to use it for\n",
    "# decoding process\n",
    "mask = nifti_masker.inverse_transform(variance_threshold.get_support())"
   ]
  },
  {
   "cell_type": "code",
   "execution_count": null,
   "metadata": {},
   "outputs": [],
   "source": [
    "# Prediction pipeline with ANOVA and SVR using :class:nilearn.decoding.DecoderRegressor Object\n",
    "\n",
    "# In nilearn we can benefit from the built-in DecoderRegressor object to\n",
    "# do ANOVA with SVR instead of manually defining the whole pipeline.\n",
    "# This estimator also uses Cross Validation to select best models and ensemble\n",
    "# them. Furthermore, you can pass n_jobs=<some_high_value> to the\n",
    "# DecoderRegressor class to take advantage of a multi-core system.\n",
    "# To save time (because these are anat images with many voxels), we include\n",
    "# only the 1-percent voxels most correlated with the age variable to fit. We\n",
    "# also want to set mask hyperparameter to be the mask we just obtained above.\n",
    "\n",
    "from nilearn.decoding import DecoderRegressor\n",
    "decoder = DecoderRegressor(estimator='svr', mask=mask,\n",
    "                           scoring='neg_mean_absolute_error',\n",
    "                           screening_percentile=1,\n",
    "                           n_jobs=1)\n",
    "# Fit and predict with the decoder\n",
    "decoder.fit(gm_imgs_train, age_train)\n",
    "\n",
    "# Sort test data for better visualization (trend, etc.)\n",
    "perm = np.argsort(age_test)[::-1]\n",
    "age_test = age_test[perm]\n",
    "gm_imgs_test = np.array(gm_imgs_test)[perm]\n",
    "age_pred = decoder.predict(gm_imgs_test)\n",
    "\n",
    "prediction_score = -np.mean(decoder.cv_scores_['beta'])\n",
    "\n",
    "print(\"=== DECODER ===\")\n",
    "print(\"explained variance for the cross-validation: %f\" % prediction_score)\n",
    "print(\"\")"
   ]
  },
  {
   "cell_type": "code",
   "execution_count": null,
   "metadata": {},
   "outputs": [],
   "source": [
    "# vis\n",
    "weight_img = decoder.coef_img_['beta']\n",
    "\n",
    "# Create the figure\n",
    "from nilearn.plotting import plot_stat_map, show\n",
    "bg_filename = gray_matter_map_filenames[0]\n",
    "z_slice = 0\n",
    "display = plot_stat_map(weight_img, bg_img=bg_filename,\n",
    "                        display_mode='z', cut_coords=[z_slice])\n",
    "display.title(\"SVM weights\")\n",
    "show()"
   ]
  },
  {
   "cell_type": "code",
   "execution_count": null,
   "metadata": {},
   "outputs": [],
   "source": [
    "# vis prediction\n",
    "plt.figure(figsize=(6, 4.5))\n",
    "plt.suptitle(\"Decoder: Mean Absolute Error %.2f years\" % prediction_score)\n",
    "linewidth = 3\n",
    "plt.plot(age_test, label=\"True age\", linewidth=linewidth)\n",
    "plt.plot(age_pred, '--', c=\"g\", label=\"Predicted age\", linewidth=linewidth)\n",
    "plt.ylabel(\"age\")\n",
    "plt.xlabel(\"subject\")\n",
    "plt.legend(loc=\"best\")\n",
    "plt.figure(figsize=(6, 4.5))\n",
    "plt.plot(age_test - age_pred, label=\"True age - predicted age\",\n",
    "         linewidth=linewidth)\n",
    "plt.xlabel(\"subject\")\n",
    "plt.legend(loc=\"best\")"
   ]
  },
  {
   "cell_type": "code",
   "execution_count": null,
   "metadata": {},
   "outputs": [],
   "source": [
    "#Inference with massively univariate model\n",
    "\n",
    "print(\"Massively univariate model\")\n",
    "\n",
    "gm_maps_masked = NiftiMasker().fit_transform(gray_matter_map_filenames)\n",
    "data = variance_threshold.fit_transform(gm_maps_masked)\n",
    "\n",
    "# Statistical inference\n",
    "from nilearn.mass_univariate import permuted_ols\n",
    "neg_log_pvals, t_scores_original_data, _ = permuted_ols(\n",
    "    age, data,  # + intercept as a covariate by default\n",
    "    n_perm=2000,  # 1,000 in the interest of time; 10000 would be better\n",
    "    verbose=1, # display progress bar\n",
    "    n_jobs=1)  # can be changed to use more CPUs\n",
    "signed_neg_log_pvals = neg_log_pvals * np.sign(t_scores_original_data)\n",
    "signed_neg_log_pvals_unmasked = nifti_masker.inverse_transform(\n",
    "    variance_threshold.inverse_transform(signed_neg_log_pvals))\n",
    "\n",
    "# Show results\n",
    "threshold = -np.log10(0.1)  # 10% corrected\n",
    "\n",
    "fig = plt.figure(figsize=(5.5, 7.5), facecolor='k')\n",
    "\n",
    "display = plot_stat_map(signed_neg_log_pvals_unmasked, bg_img=bg_filename,\n",
    "                        threshold=threshold, cmap=plt.cm.RdBu_r,\n",
    "                        display_mode='z', cut_coords=[z_slice],\n",
    "                        figure=fig)\n",
    "title = ('Negative $\\\\log_{10}$ p-values'\n",
    "         '\\n(Non-parametric + max-type correction)')\n",
    "display.title(title, y=1.2)\n",
    "\n",
    "n_detections = (get_data(signed_neg_log_pvals_unmasked) > threshold).sum()\n",
    "print('\\n%d detections' % n_detections)\n",
    "\n",
    "show()"
   ]
  }
 ],
 "metadata": {
  "kernelspec": {
   "display_name": "Python 3 (ipykernel)",
   "language": "python",
   "name": "python3"
  },
  "language_info": {
   "codemirror_mode": {
    "name": "ipython",
    "version": 3
   },
   "file_extension": ".py",
   "mimetype": "text/x-python",
   "name": "python",
   "nbconvert_exporter": "python",
   "pygments_lexer": "ipython3",
   "version": "3.8.5"
  }
 },
 "nbformat": 4,
 "nbformat_minor": 4
}
