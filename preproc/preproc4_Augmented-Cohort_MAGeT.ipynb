{
 "cells": [
  {
   "cell_type": "markdown",
   "id": "80df6a5e-4f03-408b-b0e7-1ccce6aa865e",
   "metadata": {},
   "source": [
    "# Preprocessing of MAGeT results and merge into the matched data table.\n",
    "## Input:\n",
    "    matched_des_data_file  = data_dir/'matched_Des-cere_qced.csv'\n",
    "    matched_DKT_data_file  = data_dir/'matched_DKT-cere_qced.csv'\n",
    "## Ouput:\n",
    "    matched_des_all_file = data_dir/ 'matched_Des-all_qced.csv'\n",
    "    matched_DKT_all_file = data_dir/ 'matched_DKT-all_qced.csv'"
   ]
  },
  {
   "cell_type": "code",
   "execution_count": 1,
   "id": "e135a35a-8843-4af8-a4bf-bb3574496435",
   "metadata": {},
   "outputs": [
    {
     "name": "stdout",
     "output_type": "stream",
     "text": [
      "220115-00:14:03,909 nipype.utils WARNING:\n",
      "\t A newer version (1.7.0) of nipy/nipype is available. You are using 1.5.0\n"
     ]
    }
   ],
   "source": [
    "#reading/merging/selecting data\n",
    "from pathlib import Path\n",
    "import nipype.interfaces.io as nio\n",
    "import pandas as pd\n",
    "import numpy as np\n",
    "import seaborn as sns\n",
    "import matplotlib.pyplot as plt\n",
    "# input folder\n",
    "data_dir = Path(\"/codes/tab_data\")\n",
    "maget_dir = Path(\"/codes/preproc/maget/results\")\n",
    "\n",
    "# Existing data file\n",
    "matched_des_data_file  = data_dir/'matched_Des-cere_qced.csv'\n",
    "matched_DKT_data_file  = data_dir/'matched_DKT-cere_qced.csv'\n",
    "\n",
    "# output file\n",
    "matched_des_all_file = data_dir/ 'matched_Des-all_qced.csv'\n",
    "matched_DKT_all_file = data_dir/ 'matched_DKT-all_qced.csv'\n",
    "\n",
    "cohorts_str = ['ADNI','ET','NC','PPMI']\n",
    "# preproce of MAGeT resutls\n",
    "et_maget_read = pd.read_csv(maget_dir/('ET_volumes.csv'), sep=',', header=0, index_col=0)\n",
    "et_maget_read.index= [x[2:10] for x in et_maget_read.index]\n",
    "nc_maget_read = pd.read_csv(maget_dir/('NC_volumes.csv'), sep=',', header=0, index_col=0)\n",
    "nc_maget_read.index= [x[2:10] for x in nc_maget_read.index]\n",
    "adni_maget_read = pd.read_csv(maget_dir/('ADNI_volumes.csv'), sep=',', header=0, index_col=0)\n",
    "ppmi_maget_read = pd.read_csv(maget_dir/('PPMI_volumes.csv'), sep=',', header=0, index_col=0)\n",
    "# remove sub-3600 from PPMI for not being selected and also conflicting with ET subject ID\n",
    "ppmi_maget_read=ppmi_maget_read.drop(index=['sub-3600'])\n",
    "maget_df = pd.concat([et_maget_read,nc_maget_read,ppmi_maget_read,adni_maget_read])\n",
    "maget_df.index= [x.replace('-','_') for x in maget_df.index]\n",
    "\n",
    "\n",
    "maget_df.loc[:,'L_I_IV']  = maget_df.loc[:,'L_I_II']+maget_df.loc[:,'L_III']+maget_df.loc[:,'L_IV']\n",
    "maget_df.loc[:,'R_I_IV'] = maget_df.loc[:,'R_I_II']+maget_df.loc[:,'R_III']+maget_df.loc[:,'R_IV']\n",
    "\n",
    "des_df = pd.read_csv(matched_des_data_file , sep=',', header=0, index_col=0);\n",
    "DKT_df = pd.read_csv(matched_DKT_data_file , sep=',', header=0, index_col=0);\n",
    "\n",
    "des_all_df = des_df.join(maget_df, how='left').copy()\n",
    "DKT_all_df = DKT_df.join(maget_df, how='left').copy()"
   ]
  },
  {
   "cell_type": "markdown",
   "id": "b37a1920-8fa8-471b-b15d-a6f18c7db2da",
   "metadata": {},
   "source": [
    "# Adding Gray Matter volume from SUIT and MAGET"
   ]
  },
  {
   "cell_type": "code",
   "execution_count": 2,
   "id": "1277cf1c-dab3-4f78-af70-f5b67ff59b09",
   "metadata": {},
   "outputs": [],
   "source": [
    "# adding gray matter volume from suit and maget segmentations\n",
    "SUIT_l_labels = ['Left_I_IV',  'Left_V', 'Left_VI', 'Left_CrusI', 'Left_CrusII', 'Left_VIIb', 'Left_VIIIa', 'Left_VIIIb', 'Left_IX', 'Left_X'];\n",
    "SUIT_r_labels = ['Right_I_IV','Right_V','Right_VI','Right_CrusI','Right_CrusII','Right_VIIb','Right_VIIIa','Right_VIIIb','Right_IX','Right_X'];\n",
    "MAGeT_l_labels = ['L_I_IV',  'L_V', 'L_VI', 'L_Crus_I', 'L_Crus_II', 'L_VIIB', 'L_VIIIA', 'L_VIIIB', 'L_IX', 'L_X'];  \n",
    "MAGeT_r_labels = ['R_I_IV','R_V','R_VI','R_Crus_I','R_Crus_II', 'R_VIIB','R_VIIIA','R_VIIIB','R_IX','R_X'];\n",
    "# suit\n",
    "des_all_df.loc[:,'Left_cerebellar_GM_SUIT'] =des_all_df.loc[:, SUIT_l_labels].sum(axis=1); des_all_df.loc[:,'Right_cerebellar_GM_SUIT'] =des_all_df.loc[:,SUIT_r_labels].sum(axis=1)\n",
    "des_all_df.loc[:,'Left_cerebellar_GM_MAGeT']=des_all_df.loc[:,MAGeT_l_labels].sum(axis=1); des_all_df.loc[:,'Right_cerebellar_GM_MAGeT']=des_all_df.loc[:,MAGeT_r_labels].sum(axis=1)\n",
    "# maget\n",
    "DKT_all_df.loc[:,'Left_cerebellar_GM_SUIT'] =DKT_all_df.loc[:, SUIT_l_labels].sum(axis=1); DKT_all_df.loc[:,'Right_cerebellar_GM_SUIT'] =DKT_all_df.loc[:,SUIT_r_labels].sum(axis=1)\n",
    "DKT_all_df.loc[:,'Left_cerebellar_GM_MAGeT']=DKT_all_df.loc[:,MAGeT_l_labels].sum(axis=1); DKT_all_df.loc[:,'Right_cerebellar_GM_MAGeT']=DKT_all_df.loc[:,MAGeT_r_labels].sum(axis=1)"
   ]
  },
  {
   "cell_type": "markdown",
   "id": "e07be341-401f-4216-a650-676da5dd98c2",
   "metadata": {},
   "source": [
    "# Save files"
   ]
  },
  {
   "cell_type": "code",
   "execution_count": 3,
   "id": "38c0fce6-a08e-424c-ab1e-210a9e47670b",
   "metadata": {},
   "outputs": [],
   "source": [
    "#save data\n",
    "des_all_df.to_csv(matched_des_all_file)\n",
    "DKT_all_df.to_csv(matched_DKT_all_file)"
   ]
  }
 ],
 "metadata": {
  "kernelspec": {
   "display_name": "Python 3 (ipykernel)",
   "language": "python",
   "name": "python3"
  },
  "language_info": {
   "codemirror_mode": {
    "name": "ipython",
    "version": 3
   },
   "file_extension": ".py",
   "mimetype": "text/x-python",
   "name": "python",
   "nbconvert_exporter": "python",
   "pygments_lexer": "ipython3",
   "version": "3.8.5"
  }
 },
 "nbformat": 4,
 "nbformat_minor": 5
}
