{
 "cells": [
  {
   "cell_type": "markdown",
   "id": "80df6a5e-4f03-408b-b0e7-1ccce6aa865e",
   "metadata": {},
   "source": [
    "# Preprocessing of MAGeT results and merge into the matched data table.\n",
    "## Input:\n",
    "    matched_des_data_file  = data_dir/'matched_Des-cere_qced.csv'\n",
    "    matched_DKT_data_file  = data_dir/'matched_DKT-cere_qced.csv'\n",
    "## Ouput:\n",
    "    matched_des_all_file = data_dir/ 'matched_Des-all_qced.csv'\n",
    "    matched_DKT_all_file = data_dir/ 'matched_DKT-all_qced.csv'"
   ]
  },
  {
   "cell_type": "code",
   "execution_count": 1,
   "id": "e135a35a-8843-4af8-a4bf-bb3574496435",
   "metadata": {},
   "outputs": [],
   "source": [
    "#reading/merging/selecting data\n",
    "from pathlib import Path\n",
    "import nipype.interfaces.io as nio\n",
    "import pandas as pd\n",
    "import numpy as np\n",
    "import seaborn as sns\n",
    "import matplotlib.pyplot as plt\n",
    "# input folder\n",
    "data_dir = Path(\"/codes/tab_data\")\n",
    "maget_dir = Path(\"/codes/preproc/maget/results\")\n",
    "\n",
    "# Existing data file\n",
    "matched_des_data_file  = data_dir/'matched_Des-cere_qced.csv'\n",
    "matched_DKT_data_file  = data_dir/'matched_DKT-cere_qced.csv'\n",
    "\n",
    "# output file\n",
    "matched_des_all_file = data_dir/ 'matched_Des-all_qced.csv'\n",
    "matched_DKT_all_file = data_dir/ 'matched_DKT-all_qced.csv'\n",
    "\n",
    "cohorts_str = ['ADNI','ET','NC','PPMI']\n",
    "# preproce of MAGeT resutls\n",
    "et_maget_read = pd.read_csv(maget_dir/('ET_volumes.csv'), sep=',', header=0, index_col=0)\n",
    "et_maget_read.index= [x[2:10] for x in et_maget_read.index]\n",
    "nc_maget_read = pd.read_csv(maget_dir/('NC_volumes.csv'), sep=',', header=0, index_col=0)\n",
    "nc_maget_read.index= [x[2:10] for x in nc_maget_read.index]\n",
    "adni_maget_read = pd.read_csv(maget_dir/('ADNI_volumes.csv'), sep=',', header=0, index_col=0)\n",
    "ppmi_maget_read = pd.read_csv(maget_dir/('PPMI_volumes.csv'), sep=',', header=0, index_col=0)\n",
    "maget_df = pd.concat([et_maget_read,nc_maget_read,ppmi_maget_read,adni_maget_read])\n",
    "maget_df.index= [x.replace('-','_') for x in maget_df.index]\n",
    "maget_df.loc[:,'L_I_IV']  = maget_df.loc[:,'L_I_II']+maget_df.loc[:,'L_III']+maget_df.loc[:,'L_IV']\n",
    "maget_df.loc[:,'R_I_IV'] = maget_df.loc[:,'R_I_II']+maget_df.loc[:,'R_III']+maget_df.loc[:,'R_IV']\n",
    "\n",
    "des_df = pd.read_csv(matched_des_data_file , sep=',', header=0, index_col=0);\n",
    "DKT_df = pd.read_csv(matched_DKT_data_file , sep=',', header=0, index_col=0);\n",
    "\n",
    "des_all_df = des_df.join(maget_df, how='left').copy()\n",
    "DKT_all_df = DKT_df.join(maget_df, how='left').copy()"
   ]
  },
  {
   "cell_type": "markdown",
   "id": "e07be341-401f-4216-a650-676da5dd98c2",
   "metadata": {},
   "source": [
    "# Save files"
   ]
  },
  {
   "cell_type": "code",
   "execution_count": 2,
   "id": "38c0fce6-a08e-424c-ab1e-210a9e47670b",
   "metadata": {},
   "outputs": [],
   "source": [
    "#save data\n",
    "des_all_df.to_csv(matched_des_all_file)\n",
    "DKT_all_df.to_csv(matched_DKT_all_file)"
   ]
  },
  {
   "cell_type": "code",
   "execution_count": null,
   "id": "a2824665-5fad-48ec-9076-d92925e0b91e",
   "metadata": {},
   "outputs": [],
   "source": []
  }
 ],
 "metadata": {
  "kernelspec": {
   "display_name": "Python 3 (ipykernel)",
   "language": "python",
   "name": "python3"
  },
  "language_info": {
   "codemirror_mode": {
    "name": "ipython",
    "version": 3
   },
   "file_extension": ".py",
   "mimetype": "text/x-python",
   "name": "python",
   "nbconvert_exporter": "python",
   "pygments_lexer": "ipython3",
   "version": "3.8.5"
  }
 },
 "nbformat": 4,
 "nbformat_minor": 5
}
