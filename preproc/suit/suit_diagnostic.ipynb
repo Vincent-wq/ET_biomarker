{
 "cells": [
  {
   "cell_type": "code",
   "execution_count": 1,
   "id": "ef66c1f9-13af-4974-9789-81946722b992",
   "metadata": {},
   "outputs": [],
   "source": [
    "## Diagnostics for the SUIT problems\n",
    "## check image dicom header info and image size\n",
    "from pathlib import Path\n",
    "import pandas as pd\n",
    "import seaborn as sns\n",
    "import nibabel as nib\n",
    "data_dir = Path(\"/codes/tab_data\")\n",
    "img_dir = Path(\"/scratch/output/PPMI_SUIT_res\")"
   ]
  },
  {
   "cell_type": "code",
   "execution_count": 30,
   "id": "a2dcca9e-5add-4c7e-a33c-15de3748288e",
   "metadata": {},
   "outputs": [],
   "source": [
    "sub1=\"sub-3000\" # Bad subject\n",
    "sub2=\"sub-3004\" # Good subject\n",
    "subject_list=[sub1, sub2];\n",
    "sub1_img = img_dir / (sub1+'_run-1_desc-preproc_T1w.nii')\n",
    "sub1_seg = img_dir / ('iw_Lobules-SUIT_u_a_'+sub1+'_run-1_desc-preproc_T1w_seg1.nii')\n",
    "sub2_img = img_dir / (sub2+'_run-1_desc-preproc_T1w.nii')\n",
    "sub2_seg = img_dir / ('iw_Lobules-SUIT_u_a_'+sub2+'_run-1_desc-preproc_T1w_seg1.nii')\n",
    "sub1_pro = img_dir / ('c_'+sub1+'_run-1_desc-preproc_T1w_pcereb.nii')\n",
    "sub2_pro = img_dir / ('c_'+sub2+'_run-1_desc-preproc_T1w_pcereb.nii')\n",
    "#imgs_ind_sub=[img_dir / / (x+'_run-1_desc-preproc_T1w.nii')  for x in subject_list]\n",
    "#imgs_seg_sub=[img_dir\\(['iw_Lobules-SUIT_u_a_',x,'_run-1_desc-preproc_T1w_seg1.nii'])  for x in subject_list]\n",
    "sub1_dat = nib.load(sub1_img) \n",
    "sub2_dat = nib.load(sub2_img) \n",
    "sub1_seg_dat = nib.load(sub1_seg) \n",
    "sub2_seg_dat = nib.load(sub2_seg) \n",
    "sub1_pro_dat = nib.load(sub1_pro) \n",
    "sub2_pro_dat = nib.load(sub2_pro) "
   ]
  },
  {
   "cell_type": "code",
   "execution_count": 31,
   "id": "d262736c-a5bd-4313-b66c-61c4737ae57d",
   "metadata": {},
   "outputs": [
    {
     "name": "stdout",
     "output_type": "stream",
     "text": [
      "12165.0\n",
      "1319091.0\n",
      "12165.0\n",
      "1319091.0\n",
      "137049\n",
      "143026\n"
     ]
    }
   ],
   "source": [
    "#print(sub1_seg_dat.header)\n",
    "#print(sub2_seg_dat.header)\n",
    "import numpy as np\n",
    "print(np.sum(sub1_seg_dat.get_fdata()))\n",
    "print(np.sum(sub2_seg_dat.get_fdata()))\n",
    "print(np.sum(sub1_seg_dat.get_fdata()))\n",
    "print(np.sum(sub2_seg_dat.get_fdata()))\n",
    "print(np.sum(sub1_pro_dat.get_fdata()>0))\n",
    "print(np.sum(sub2_pro_dat.get_fdata()>0))"
   ]
  },
  {
   "cell_type": "code",
   "execution_count": 22,
   "id": "9dd8d43b-cb43-4a3e-9efb-3acc3c306586",
   "metadata": {},
   "outputs": [
    {
     "name": "stdout",
     "output_type": "stream",
     "text": [
      "<class 'nibabel.nifti1.Nifti1Header'> object, endian='<'\n",
      "sizeof_hdr      : 348\n",
      "data_type       : b''\n",
      "db_name         : b''\n",
      "extents         : 0\n",
      "session_error   : 0\n",
      "regular         : b'r'\n",
      "dim_info        : 54\n",
      "dim             : [  3 152 256 256   1   1   1   1]\n",
      "intent_p1       : 0.0\n",
      "intent_p2       : 0.0\n",
      "intent_p3       : 0.0\n",
      "intent_code     : none\n",
      "datatype        : int16\n",
      "bitpix          : 16\n",
      "slice_start     : 0\n",
      "pixdim          : [1.        1.2000046 1.        1.        0.00908   0.        0.\n",
      " 0.       ]\n",
      "vox_offset      : 0.0\n",
      "scl_slope       : nan\n",
      "scl_inter       : nan\n",
      "slice_end       : 0\n",
      "slice_code      : unknown\n",
      "xyzt_units      : 2\n",
      "cal_max         : 0.0\n",
      "cal_min         : 0.0\n",
      "slice_duration  : 0.0\n",
      "toffset         : 0.0\n",
      "glmax           : 0\n",
      "glmin           : 0\n",
      "descrip         : b'xform matrices modified by CopyXForm (niworkflows v1.3.1).'\n",
      "aux_file        : b''\n",
      "qform_code      : scanner\n",
      "sform_code      : scanner\n",
      "quatern_b       : 0.0\n",
      "quatern_c       : 0.0\n",
      "quatern_d       : 0.0\n",
      "qoffset_x       : -88.9784\n",
      "qoffset_y       : -100.295\n",
      "qoffset_z       : -124.563995\n",
      "srow_x          : [  1.2000046   0.          0.        -88.9784   ]\n",
      "srow_y          : [   0.       1.       0.    -100.295]\n",
      "srow_z          : [   0.          0.          1.       -124.563995]\n",
      "intent_name     : b''\n",
      "magic           : b'n+1'\n"
     ]
    }
   ],
   "source": [
    "print(sub2_dat.header)"
   ]
  },
  {
   "cell_type": "code",
   "execution_count": null,
   "id": "d42b2a9a-961c-4d5d-873c-5528c2cb5371",
   "metadata": {},
   "outputs": [],
   "source": []
  }
 ],
 "metadata": {
  "kernelspec": {
   "display_name": "Python 3 (ipykernel)",
   "language": "python",
   "name": "python3"
  },
  "language_info": {
   "codemirror_mode": {
    "name": "ipython",
    "version": 3
   },
   "file_extension": ".py",
   "mimetype": "text/x-python",
   "name": "python",
   "nbconvert_exporter": "python",
   "pygments_lexer": "ipython3",
   "version": "3.8.5"
  }
 },
 "nbformat": 4,
 "nbformat_minor": 5
}
