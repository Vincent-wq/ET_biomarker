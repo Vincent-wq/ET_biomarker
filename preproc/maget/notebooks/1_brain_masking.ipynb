{
 "metadata": {
  "language_info": {
   "codemirror_mode": {
    "name": "ipython",
    "version": 3
   },
   "file_extension": ".py",
   "mimetype": "text/x-python",
   "name": "python",
   "nbconvert_exporter": "python",
   "pygments_lexer": "ipython3",
   "version": "3.8.5"
  },
  "orig_nbformat": 2,
  "kernelspec": {
   "name": "python3",
   "display_name": "Python 3.8.5 64-bit ('parkinsons': conda)"
  },
  "interpreter": {
   "hash": "36d8b16b05a6ca8778ee05143eac4797810e0467341c66a72bba812b67c60217"
  }
 },
 "nbformat": 4,
 "nbformat_minor": 2,
 "cells": [
  {
   "cell_type": "markdown",
   "source": [
    "# Code to mask nifti images\n",
    "- Uses preproc images and brain masks from fMRIPrep"
   ],
   "metadata": {}
  },
  {
   "cell_type": "code",
   "execution_count": 1,
   "source": [
    "import nibabel as nib\n",
    "import glob\n",
    "import os\n",
    "import sys\n",
    "\n",
    "sys.path.append('../')\n",
    "from lib.io_utils import *"
   ],
   "outputs": [],
   "metadata": {}
  },
  {
   "cell_type": "markdown",
   "source": [
    "### Paths"
   ],
   "metadata": {}
  },
  {
   "cell_type": "code",
   "execution_count": 9,
   "source": [
    "project_dir = '../../../'\n",
    "data_dir = project_dir + 'data/preproc_T1s/NC/'\n",
    "img_dir = data_dir +'images/'\n",
    "mask_dir = data_dir + 'masks/'\n",
    "masked_img_dir = data_dir + 'masked_images/'"
   ],
   "outputs": [],
   "metadata": {}
  },
  {
   "cell_type": "markdown",
   "source": [
    "### Apply brain mask to all images"
   ],
   "metadata": {}
  },
  {
   "cell_type": "code",
   "execution_count": 10,
   "source": [
    "img_paths = os.listdir(img_dir)\n",
    "print('Number of subjects in {}: {}'.format(img_dir, len(img_paths)))\n",
    "\n",
    "for img_path in img_paths:\n",
    "    sub_name = img_path.rsplit('-',1)[0]\n",
    "    print('Subject name: {}'.format(sub_name))\n",
    "    img_path = img_dir + sub_name + '-preproc_T1w.nii.gz'\n",
    "    mask_path = mask_dir + sub_name + '-brain_mask.nii.gz' \n",
    "    masked_img_path = masked_img_dir + sub_name + '-masked_preproc_T1w.nii.gz'\n",
    "\n",
    "    get_masked_image(img_path, mask_path, masked_img_path)"
   ],
   "outputs": [
    {
     "output_type": "stream",
     "name": "stdout",
     "text": [
      "Number of subjects in ../../../data/preproc_T1s/NC/images/: 35\n",
      "Subject name: sub-0085_ses-1_desc\n",
      "Subject name: sub-0079_ses-1_run-1_desc\n",
      "Subject name: sub-0104_ses-1_run-1_desc\n",
      "Subject name: sub-0107_ses-1_run-1_desc\n",
      "Subject name: sub-0072_ses-1_run-1_desc\n",
      "Subject name: sub-0058_ses-1_run-1_desc\n",
      "Subject name: sub-0077_ses-1_run-1_desc\n",
      "Subject name: sub-0060_ses-1_run-1_desc\n",
      "Subject name: sub-0124_ses-1_run-1_desc\n",
      "Subject name: sub-0062_ses-1_run-1_desc\n",
      "Subject name: sub-0108_ses-1_run-1_desc\n",
      "Subject name: sub-0083_ses-1_run-1_desc\n",
      "Subject name: sub-0064_ses-1_run-1_desc\n",
      "Subject name: sub-0041_ses-1_run-1_desc\n",
      "Subject name: sub-0067_ses-1_run-1_desc\n",
      "Subject name: sub-0117_ses-1_run-1_desc\n",
      "Subject name: sub-0121_ses-1_run-1_desc\n",
      "Subject name: sub-0078_ses-1_run-1_desc\n",
      "Subject name: sub-0039_ses-1_run-1_desc\n",
      "Subject name: sub-0042_ses-1_run-1_desc\n",
      "Subject name: sub-0110_ses-1_run-1_desc\n",
      "Subject name: sub-0053_ses-1_run-1_desc\n",
      "Subject name: sub-0082_ses-1_run-1_desc\n",
      "Subject name: sub-0102_ses-1_run-1_desc\n",
      "Subject name: sub-0071_ses-1_run-1_desc\n",
      "Subject name: sub-0043_ses-1_run-1_desc\n",
      "Subject name: sub-0073_ses-1_desc\n",
      "Subject name: sub-0130_ses-1_run-1_desc\n",
      "Subject name: sub-0066_ses-1_run-1_desc\n",
      "Subject name: sub-0080_ses-1_run-1_desc\n",
      "Subject name: sub-0057_ses-1_run-1_desc\n",
      "Subject name: sub-0128_ses-1_run-1_desc\n",
      "Subject name: sub-0100_ses-1_run-1_desc\n",
      "Subject name: sub-0044_ses-1_run-1_desc\n",
      "Subject name: sub-0113_ses-1_run-1_desc\n"
     ]
    }
   ],
   "metadata": {}
  },
  {
   "cell_type": "code",
   "execution_count": 8,
   "source": [
    "zmap = nib.load(img_path)\n",
    "print(zmap.header)"
   ],
   "outputs": [
    {
     "output_type": "stream",
     "name": "stdout",
     "text": [
      "<class 'nibabel.nifti1.Nifti1Header'> object, endian='<'\n",
      "sizeof_hdr      : 348\n",
      "data_type       : b''\n",
      "db_name         : b''\n",
      "extents         : 0\n",
      "session_error   : 0\n",
      "regular         : b'r'\n",
      "dim_info        : 54\n",
      "dim             : [  3 192 256 256   1   1   1   1]\n",
      "intent_p1       : 0.0\n",
      "intent_p2       : 0.0\n",
      "intent_p3       : 0.0\n",
      "intent_code     : none\n",
      "datatype        : int16\n",
      "bitpix          : 16\n",
      "slice_start     : 0\n",
      "pixdim          : [1.  1.  1.  1.  2.3 0.  0.  0. ]\n",
      "vox_offset      : 0.0\n",
      "scl_slope       : nan\n",
      "scl_inter       : nan\n",
      "slice_end       : 0\n",
      "slice_code      : unknown\n",
      "xyzt_units      : 2\n",
      "cal_max         : 0.0\n",
      "cal_min         : 0.0\n",
      "slice_duration  : 0.0\n",
      "toffset         : 0.0\n",
      "glmax           : 0\n",
      "glmin           : 0\n",
      "descrip         : b'xform matrices modified by CopyXForm (niworkflows v1.3.1).'\n",
      "aux_file        : b''\n",
      "qform_code      : scanner\n",
      "sform_code      : scanner\n",
      "quatern_b       : 0.0\n",
      "quatern_c       : 0.0\n",
      "quatern_d       : 0.0\n",
      "qoffset_x       : -89.4316\n",
      "qoffset_y       : -102.641525\n",
      "qoffset_z       : -127.0\n",
      "srow_x          : [  1.       0.       0.     -89.4316]\n",
      "srow_y          : [   0.          1.          0.       -102.641525]\n",
      "srow_z          : [   0.    0.    1. -127.]\n",
      "intent_name     : b''\n",
      "magic           : b'n+1'\n"
     ]
    }
   ],
   "metadata": {}
  },
  {
   "cell_type": "code",
   "execution_count": null,
   "source": [],
   "outputs": [],
   "metadata": {}
  }
 ]
}