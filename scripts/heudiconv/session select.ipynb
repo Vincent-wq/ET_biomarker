{
 "cells": [
  {
   "cell_type": "markdown",
   "id": "7bb1f955-dc2c-4c0f-998d-e8d2b9fdfefe",
   "metadata": {},
   "source": [
    "# Session selection helper for converting dicoms to BIDS nifti.\n",
    "\n",
    "This is how we select the most recent sessions of the subjects from PPMI and ADNI to get an elder population so that we have better matched control cohort for the local ET cohort."
   ]
  },
  {
   "cell_type": "code",
   "execution_count": 37,
   "id": "51d6310a-e525-438f-8250-47e66a6c4002",
   "metadata": {},
   "outputs": [],
   "source": [
    "from pathlib import Path\n",
    "import nipype.interfaces.io as nio\n",
    "import pandas as pd\n",
    "\n",
    "#PATH\n",
    "main_dir = Path(\"/scratch\")\n",
    "out_dir = Path(\"/output\")\n",
    "code_dir = main_dir / 'ET_biomarker' / 'scripts' / 'heudiconv'\n",
    "adni_dcm_file = code_dir/ 'heudiconv_res' / 'ADNI_dicomInfo.tsv'  # from dicom headers\n",
    "ppmi_dcm_file = code_dir/ 'heudiconv_res' / 'PPMI_dicomInfo.tsv'  # from dicom headers\n",
    "adni_dcm_folder_file = code_dir/ 'heudiconv_res' / 'ADNI_dcm_format4.csv' # from dicom folder names\n",
    "adni_dl_file = main_dir / 'ET_biomarker' / 'tab_data' / '3T_T1_CN_ADNI2_7_15_2021.csv' # from download page\n",
    "ppmi_dl_file = main_dir / 'ET_biomarker' / 'tab_data' / '3T_T1_NC_PPMI_5_08_2021.csv'  # from download page\n",
    "adni_session_file = out_dir / 'ADNI_session.ses' # output: session we are going to process\n",
    "# Read table\n",
    "adni_full_data=pd.read_csv(adni_dcm_file, sep='\\t')\n",
    "ppmi_full_data=pd.read_csv(ppmi_dcm_file, sep='\\t')\n",
    "adni_dl_full_data=pd.read_csv(adni_dl_file, sep=',')\n",
    "ppmi_dl_full_data=pd.read_csv(ppmi_dl_file, sep=',')\n",
    "adni_folder_data=pd.read_csv(adni_dcm_folder_file, sep='\\t',skip_blank_lines=1)"
   ]
  },
  {
   "cell_type": "markdown",
   "id": "18806077-949b-4c4b-b070-afc054f2f900",
   "metadata": {},
   "source": [
    "Observed dicom header problems for age,sex and other columns. Need to fix age and sex manually.\n",
    "The image_id and session id are not the same feature.\n",
    "http://adni.loni.usc.edu/support/experts-knowledge-base/question/?QID=488\n",
    "recommend not to use images with \n",
    "LONI image 58872 has 2 MPRAGE scans in the single series (332 slices) it fails protocol and image QC since it does not have 166 slices.\n",
    "We would suggest that you use the MPRAGE Repeat scan LONI I58874 for that subject’s time-point.\n",
    "MPRAGE or IR-FSPGR. for T1"
   ]
  },
  {
   "cell_type": "code",
   "execution_count": 26,
   "id": "fefe4c8c-eba2-4a43-96a9-ab93f3fec265",
   "metadata": {},
   "outputs": [
    {
     "data": {
      "text/plain": [
       "'dicom info:'"
      ]
     },
     "metadata": {},
     "output_type": "display_data"
    },
    {
     "data": {
      "text/plain": [
       "2284"
      ]
     },
     "metadata": {},
     "output_type": "display_data"
    },
    {
     "data": {
      "text/plain": [
       "'download meta data info:'"
      ]
     },
     "metadata": {},
     "output_type": "display_data"
    },
    {
     "data": {
      "text/plain": [
       "7320"
      ]
     },
     "metadata": {},
     "output_type": "display_data"
    }
   ],
   "source": [
    "pd.set_option('mode.chained_assignment','warn')\n",
    "dcm_feature_list = ['patient_id','dcm_dir_name','date','series_id', 'sequence_name','series_description', 'protocol_name','dim1','dim2','dim3','dim4']\n",
    "dl_feature_list = ['Subject','Image Data ID','Description','Acq Date','Sex','Age', 'Visit']\n",
    "\n",
    "adni_dcm_data = adni_full_data[dcm_feature_list];  ppmi_dcm_data = ppmi_full_data[dcm_feature_list]\n",
    "adni_dl_data  = adni_dl_full_data[dl_feature_list]; ppmi_dl_data = ppmi_dl_full_data[dl_feature_list]\n",
    "# check download meta data and dcm information\n",
    "display('dicom info:',len(adni_dcm_data))\n",
    "display('download meta data info:',len(adni_dl_data))"
   ]
  },
  {
   "cell_type": "code",
   "execution_count": 3,
   "id": "9cd876da-6a75-480e-8db1-b00a5d0a108e",
   "metadata": {},
   "outputs": [
    {
     "data": {
      "text/html": [
       "<div>\n",
       "<style scoped>\n",
       "    .dataframe tbody tr th:only-of-type {\n",
       "        vertical-align: middle;\n",
       "    }\n",
       "\n",
       "    .dataframe tbody tr th {\n",
       "        vertical-align: top;\n",
       "    }\n",
       "\n",
       "    .dataframe thead th {\n",
       "        text-align: right;\n",
       "    }\n",
       "</style>\n",
       "<table border=\"1\" class=\"dataframe\">\n",
       "  <thead>\n",
       "    <tr style=\"text-align: right;\">\n",
       "      <th></th>\n",
       "      <th>index</th>\n",
       "      <th>patient_id</th>\n",
       "      <th>series_description</th>\n",
       "      <th>date</th>\n",
       "      <th>dcm_dir_name</th>\n",
       "    </tr>\n",
       "  </thead>\n",
       "  <tbody>\n",
       "    <tr>\n",
       "      <th>0</th>\n",
       "      <td>3</td>\n",
       "      <td>002_S_0295</td>\n",
       "      <td>3_Plane_Localizer</td>\n",
       "      <td>2011-06-02_07_56_57.0</td>\n",
       "      <td>S110472</td>\n",
       "    </tr>\n",
       "    <tr>\n",
       "      <th>1</th>\n",
       "      <td>6</td>\n",
       "      <td>002_S_0295</td>\n",
       "      <td>Field_Mapping</td>\n",
       "      <td>2011-06-02_08_29_18.0</td>\n",
       "      <td>S110473</td>\n",
       "    </tr>\n",
       "    <tr>\n",
       "      <th>2</th>\n",
       "      <td>9</td>\n",
       "      <td>002_S_0295</td>\n",
       "      <td>MPRAGE</td>\n",
       "      <td>2011-06-02_07_58_50.0</td>\n",
       "      <td>S110476</td>\n",
       "    </tr>\n",
       "    <tr>\n",
       "      <th>3</th>\n",
       "      <td>11</td>\n",
       "      <td>002_S_0295</td>\n",
       "      <td>MPRAGE</td>\n",
       "      <td>2012-05-10_15_44_50.0</td>\n",
       "      <td>S150055</td>\n",
       "    </tr>\n",
       "    <tr>\n",
       "      <th>4</th>\n",
       "      <td>14</td>\n",
       "      <td>002_S_0295</td>\n",
       "      <td>MPRAGE_SENSE2</td>\n",
       "      <td>2011-06-02_08_08_45.0</td>\n",
       "      <td>S110477</td>\n",
       "    </tr>\n",
       "  </tbody>\n",
       "</table>\n",
       "</div>"
      ],
      "text/plain": [
       "   index  patient_id series_description                   date dcm_dir_name\n",
       "0      3  002_S_0295  3_Plane_Localizer  2011-06-02_07_56_57.0      S110472\n",
       "1      6  002_S_0295      Field_Mapping  2011-06-02_08_29_18.0      S110473\n",
       "2      9  002_S_0295             MPRAGE  2011-06-02_07_58_50.0      S110476\n",
       "3     11  002_S_0295             MPRAGE  2012-05-10_15_44_50.0      S150055\n",
       "4     14  002_S_0295      MPRAGE_SENSE2  2011-06-02_08_08_45.0      S110477"
      ]
     },
     "execution_count": 3,
     "metadata": {},
     "output_type": "execute_result"
    }
   ],
   "source": [
    "# Confirmation from dicom folders due to missing information from dicom headers\n",
    "adni_folder_data=pd.read_csv(adni_dcm_folder_file, sep='\\t',skip_blank_lines=1)\n",
    "adni_folder_data=adni_folder_data.dropna()\n",
    "adni_folder_data=adni_folder_data.iloc[:,1:]\n",
    "adni_folder_data=adni_folder_data.rename(columns={\"Unnamed: 1\": \"patient_id\", \"Unnamed: 2\":\"series_description\", 'Unnamed: 3':\"date\", \"Unnamed: 4\":\"dcm_dir_name\"})\n",
    "adni_folder_data=adni_folder_data.reset_index()\n",
    "#adni_folder_data.head()\n",
    "\n",
    "# confirmation from \n",
    "df_tmp=adni_folder_data[(adni_folder_data['series_description'].str.contains('MPRAGE', regex=False)) | \\\n",
    "                        (adni_folder_data['series_description'].str.contains('SPGR', regex=False))]\n",
    "#adni_dcm_data['dim3'].unique()\n",
    "display(len(df_tmp['patient_id'].unique()))\n",
    "display(len(adni_folder_data['patient_id'].unique()))\n",
    "\n",
    "#adni_full_data[adni_full_data['dim3']>600].tail(5)\n",
    "tmp_col1=df_tmp.groupby(['patient_id'])\n",
    "A = tmp_col1['date'].transform(max)\n",
    "df_tmp.loc[:,'last_session_time']=list(A)\n",
    "#B\n",
    "df_tmp = df_tmp[df_tmp['date']==df_tmp['last_session_time']]\n",
    "#df_tmp['i_id']=df_tmp.index\n",
    "#display(len(df_tmp))\n",
    "df_tmp.sort_values(by='patient_id')\n",
    "gX=df_tmp.groupby('patient_id')\n",
    "g1X=gX['dcm_dir_name'].apply(lambda x: max(x))\n",
    "display(g1X)\n",
    "#g1.to_csv(adni_session_file,header=0)\n",
    "len(g1X)"
   ]
  },
  {
   "cell_type": "code",
   "execution_count": 18,
   "id": "e1dd86a5-955a-41e3-a4e6-236e5fa70515",
   "metadata": {},
   "outputs": [
    {
     "data": {
      "text/plain": [
       "223"
      ]
     },
     "metadata": {},
     "output_type": "display_data"
    },
    {
     "data": {
      "text/plain": [
       "300"
      ]
     },
     "metadata": {},
     "output_type": "display_data"
    },
    {
     "name": "stderr",
     "output_type": "stream",
     "text": [
      "/usr/local/miniconda/lib/python3.8/site-packages/pandas/core/indexing.py:1597: SettingWithCopyWarning: \n",
      "A value is trying to be set on a copy of a slice from a DataFrame.\n",
      "Try using .loc[row_indexer,col_indexer] = value instead\n",
      "\n",
      "See the caveats in the documentation: https://pandas.pydata.org/pandas-docs/stable/user_guide/indexing.html#returning-a-view-versus-a-copy\n",
      "  self.obj[key] = value\n",
      "/usr/local/miniconda/lib/python3.8/site-packages/pandas/core/indexing.py:1676: SettingWithCopyWarning: \n",
      "A value is trying to be set on a copy of a slice from a DataFrame.\n",
      "Try using .loc[row_indexer,col_indexer] = value instead\n",
      "\n",
      "See the caveats in the documentation: https://pandas.pydata.org/pandas-docs/stable/user_guide/indexing.html#returning-a-view-versus-a-copy\n",
      "  self._setitem_single_column(ilocs[0], value, pi)\n"
     ]
    },
    {
     "data": {
      "text/plain": [
       "patient_id\n",
       "002_S_0295    S110477\n",
       "002_S_0413    S111992\n",
       "002_S_0685    S114048\n",
       "002_S_1280    S183170\n",
       "002_S_4213    S121168\n",
       "               ...   \n",
       "941_S_4100    S418036\n",
       "941_S_4255    S133770\n",
       "941_S_4292    S489258\n",
       "941_S_4365    S437573\n",
       "941_S_4376    S437610\n",
       "Name: dcm_dir_name, Length: 223, dtype: object"
      ]
     },
     "metadata": {},
     "output_type": "display_data"
    },
    {
     "data": {
      "text/plain": [
       "223"
      ]
     },
     "execution_count": 18,
     "metadata": {},
     "output_type": "execute_result"
    }
   ],
   "source": [
    "# session information from dicom headers\n",
    "df_tmp=adni_dcm_data[(adni_dcm_data['dim1']>190) & (adni_dcm_data['dim1']<300) & \\\n",
    "                     (adni_dcm_data['dim2']>190) & (adni_dcm_data['dim2']<300) & \\\n",
    "                     (adni_dcm_data['dim3']>100) & (adni_dcm_data['dim3']<500) & \\\n",
    "                     ((adni_dcm_data['series_description'].str.contains('MPRAGE', regex=False)) | \\\n",
    "                      (adni_dcm_data['series_description'].str.contains('SPGR', regex=False)))]\n",
    "#display(df_tmp)\n",
    "#adni_dcm_data['dim3'].unique()\n",
    "display(len(df_tmp['patient_id'].unique()))\n",
    "display(len(adni_dcm_data['patient_id'].unique()))\n",
    "#display(tmp_col)\n",
    "#adni_full_data[adni_full_data['dim3']>600].tail(5)\n",
    "tmp_col=df_tmp.groupby(['patient_id'])\n",
    "B = tmp_col['date'].transform(max)\n",
    "df_tmp.loc[:,'last_session_time']=list(B)\n",
    "#B\n",
    "df_tmp = df_tmp[df_tmp['date']==df_tmp['last_session_time']]\n",
    "#df_tmp['i_id']=df_tmp.index\n",
    "#display(len(df_tmp))\n",
    "df_tmp.sort_values(by='patient_id')\n",
    "g=df_tmp.groupby('patient_id')\n",
    "g1=g['dcm_dir_name'].apply(lambda x: max(x))\n",
    "display(g1)\n",
    "g1.to_csv(adni_session_file,header=0)\n",
    "len(g1)\n",
    "#list(g1)\n",
    "#adni_dcm_data[adni_dcm_data[] in list(g1)]"
   ]
  },
  {
   "cell_type": "code",
   "execution_count": 38,
   "id": "551c98c0-eaf5-42ea-afa4-4fa576000750",
   "metadata": {},
   "outputs": [
    {
     "data": {
      "text/plain": [
       "Index(['002_S_0295', '002_S_0413', '002_S_0685', '002_S_1280', '002_S_4213',\n",
       "       '002_S_4225', '002_S_4264', '003_S_0907', '003_S_0981', '003_S_4081',\n",
       "       ...\n",
       "       '153_S_4151', '941_S_1195', '941_S_1202', '941_S_1203', '941_S_4066',\n",
       "       '941_S_4100', '941_S_4255', '941_S_4292', '941_S_4365', '941_S_4376'],\n",
       "      dtype='object', name='patient_id', length=223)"
      ]
     },
     "metadata": {},
     "output_type": "display_data"
    }
   ],
   "source": [
    "g1.to_csv(adni_session_file,header=0)\n",
    "display(g1.index)\n",
    "g1.loc[g1.index[0]]\n",
    "for x in g1.index:\n",
    "    f_path = out_dir / 'ADNI_sessions'  / x\n",
    "    f = open(f_path, \"w\")\n",
    "    f.write(g1.loc[x])\n",
    "    f.close()"
   ]
  },
  {
   "cell_type": "code",
   "execution_count": 20,
   "id": "a35ffd0f-0329-4142-9301-04e0e32d913d",
   "metadata": {},
   "outputs": [
    {
     "name": "stdout",
     "output_type": "stream",
     "text": [
      "IR-FSPGR\n",
      "IR-FSPGR-Repeat\n",
      "IR-FSPGR REPEAT\n",
      "IR-SPGR w/acceleration\n",
      "Accelerated Sag IR-SPGR\n",
      "Sag IR-SPGR\n",
      "Sag IR-FSPGR\n",
      "Accelerated SAG IR-SPGR\n",
      "IR-SPGR\n",
      "IR-FSPGR (replaces MP-Rage)\n",
      "SAG IR-FSPGR\n",
      "Accelerated Sag IR-FSPGR\n",
      "Accelerated SAG IR-SPGR REPEAT\n",
      "Accelerated SAG IR-FSPGR\n",
      "Sag IR-FSPGR Repeat\n",
      "SAG IR-FSPGR-Repeat\n"
     ]
    }
   ],
   "source": [
    "# check all 'SPGR' sequences\n",
    "sequence_names = adni_dcm_data['series_description'].unique()\n",
    "for x in sequence_names:\n",
    "    if 'SPGR' in x:\n",
    "        print(x)\n",
    "# check all 'MPRAGE' sequences\n",
    "sequence=adni_dcm_data['series_description'].unique()\n",
    "for x in sequence:\n",
    "    if 'MPRAGE' in x:\n",
    "        print(x)"
   ]
  },
  {
   "cell_type": "code",
   "execution_count": 24,
   "id": "3e815fc0-ac10-4dd6-ac91-2dcbdf9fbbbc",
   "metadata": {},
   "outputs": [
    {
     "data": {
      "text/plain": [
       "'dicom info:'"
      ]
     },
     "metadata": {},
     "output_type": "display_data"
    },
    {
     "data": {
      "text/plain": [
       "2284"
      ]
     },
     "metadata": {},
     "output_type": "display_data"
    },
    {
     "data": {
      "text/plain": [
       "'download meta data info:'"
      ]
     },
     "metadata": {},
     "output_type": "display_data"
    },
    {
     "data": {
      "text/plain": [
       "7320"
      ]
     },
     "metadata": {},
     "output_type": "display_data"
    }
   ],
   "source": []
  },
  {
   "cell_type": "code",
   "execution_count": 17,
   "id": "3b1b41cb-6e83-41e4-8279-4418005de124",
   "metadata": {},
   "outputs": [
    {
     "data": {
      "image/png": "[encoded data removed]",
      "text/plain": [
       "<Figure size 432x288 with 1 Axes>"
      ]
     },
     "metadata": {
      "needs_background": "light"
     },
     "output_type": "display_data"
    },
    {
     "data": {
      "image/png": "[encoded data removed]",
      "text/plain": [
       "<Figure size 432x288 with 1 Axes>"
      ]
     },
     "metadata": {
      "needs_background": "light"
     },
     "output_type": "display_data"
    },
    {
     "data": {
      "image/png": "[encoded data removed]",
      "text/plain": [
       "<Figure size 432x288 with 1 Axes>"
      ]
     },
     "metadata": {
      "needs_background": "light"
     },
     "output_type": "display_data"
    }
   ],
   "source": [
    "# check ordered subjects\n",
    "#display(ppmi_dl_data.sort_values(by='Subject', ascending=False).head())\n",
    "#display(ppmi_dcm_data.sort_values(by='patient_id', ascending=False).head())\n",
    "import seaborn as sns\n",
    "import matplotlib.pyplot as plt\n",
    "\n",
    "# the histogram of the data\n",
    "fig, ax = plt.subplots()\n",
    "n, bins, patches = ax.hist(adni_dcm_data['dim1'], 200, density=True)\n",
    "# add a 'best fit' line\n",
    "# Tweak spacing to prevent clipping of ylabel\n",
    "fig.tight_layout()\n",
    "plt.show()\n",
    "fig, ax = plt.subplots()\n",
    "n, bins, patches = ax.hist(adni_dcm_data['dim2'], 200, density=True)\n",
    "# add a 'best fit' line\n",
    "# Tweak spacing to prevent clipping of ylabel\n",
    "fig.tight_layout()\n",
    "plt.show()\n",
    "fig, ax = plt.subplots()\n",
    "n, bins, patches = ax.hist(adni_dcm_data['dim3'], 200, density=True)\n",
    "# add a 'best fit' line\n",
    "# Tweak spacing to prevent clipping of ylabel\n",
    "fig.tight_layout()\n",
    "plt.show()\n",
    "\n",
    "#sns.set_theme(style=\"darkgrid\")\n",
    "#sns.displot(\n",
    "#    adni_dcm_data, x=\"dim3\", row=\"series_description\",\n",
    "#    binwidth=3, height=3, facet_kws=dict(margin_titles=True),)"
   ]
  },
  {
   "cell_type": "code",
   "execution_count": null,
   "id": "05b1bde7-9975-4d16-9daf-19d51549d3b1",
   "metadata": {},
   "outputs": [],
   "source": [
    "tmp_col=adni_data.groupby(['patient_id'])\n",
    "B = tmp_col['date'].transform(max)\n",
    "adni_data.loc[:,'last_session_time']=list(B)\n",
    "#B\n",
    "adni_data = adni_data.loc[adni_data['date']==adni_data['last_session_time']]\n",
    "adni_data\n",
    "\n",
    "a=ppmi_full_data.loc[:,'patient_id'].unique()\n",
    "a.sort()\n",
    "len(a)"
   ]
  },
  {
   "cell_type": "code",
   "execution_count": null,
   "id": "ce1598bb-3b1e-49d6-898c-36a0563e29ad",
   "metadata": {},
   "outputs": [],
   "source": [
    "b=ppmi_dl_full_data.loc[:,'Subject'].unique()\n",
    "b.sort()\n",
    "len(b)"
   ]
  },
  {
   "cell_type": "code",
   "execution_count": null,
   "id": "20b422e9-d1fc-45be-a5d3-ad2bc3bd4d0d",
   "metadata": {},
   "outputs": [],
   "source": []
  }
 ],
 "metadata": {
  "kernelspec": {
   "display_name": "Python 3 (ipykernel)",
   "language": "python",
   "name": "python3"
  },
  "language_info": {
   "codemirror_mode": {
    "name": "ipython",
    "version": 3
   },
   "file_extension": ".py",
   "mimetype": "text/x-python",
   "name": "python",
   "nbconvert_exporter": "python",
   "pygments_lexer": "ipython3",
   "version": "3.8.5"
  }
 },
 "nbformat": 4,
 "nbformat_minor": 5
}
